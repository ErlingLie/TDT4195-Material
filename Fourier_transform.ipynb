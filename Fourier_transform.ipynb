{
 "cells": [
  {
   "cell_type": "markdown",
   "metadata": {
    "deletable": false,
    "editable": false,
    "run_control": {
     "frozen": true
    }
   },
   "source": [
    "# Images in frequency domain\n",
    "\n",
    "We can process images in the frequency domain by fourier transforming them. This is a simple task with numpy and python, as numpy has existing functionality for it. \n",
    "\n",
    "There are multiple reasons for wanting to process an image in the frequency domain instead of the spatial domain. For instance will repetitive noise in the spatial domain become points in the frequncy domain, and are thus easier to remove. Another important point is that convolution operations in the spatial domain become pointwise multiplication in the frequency domain which is less computationally demanding."
   ]
  },
  {
   "cell_type": "markdown",
   "metadata": {
    "deletable": false,
    "editable": false,
    "run_control": {
     "frozen": true
    }
   },
   "source": [
    "## First encounter\n",
    "\n",
    "Numpy has fourier transforms in the module [np.fft](https://numpy.org/doc/stable/reference/routines.fft.html). When we apply the fourier transform, numpy will put the zero-frequency at index 0, the indices 1: n/2 + 1 contain the positive frequency components and the indices n/2 + 1 : n contain the negative frequencies. In order to visually display the transformed image we usually want the zero-frequency in the middel for the image. For this, numpy provides the function [np.fft.fftshift](https://numpy.org/doc/stable/reference/generated/numpy.fft.fftshift.html#numpy.fft.fftshift) which centers the image.\n",
    "\n",
    "The following code wil declare a repeating pattern in the spatial domain, transform it to the frequency domain and display the result."
   ]
  },
  {
   "cell_type": "code",
   "execution_count": null,
   "metadata": {},
   "outputs": [],
   "source": [
    "import numpy as np\n",
    "from matplotlib import pyplot as plt\n",
    "\n",
    "def display_fft(image):\n",
    "    return np.log(1 + np.absolute(np.fft.fftshift(image)))\n",
    "\n",
    "def make_sinus_image(im_size, frequency):\n",
    "    return np.array([[np.sin(frequency*np.pi*2*i/im_size) for i in range(im_size)] for j in range(im_size)])\n",
    "\n",
    "\n",
    "def display_image_with_fft(image):\n",
    "    plt.figure()\n",
    "    plt.subplot(1,2,1)\n",
    "    plt.imshow(image, cmap = \"gray\")\n",
    "    \n",
    "    fft_im = np.fft.fft2(image)\n",
    "    plt.subplot(1,2,2)\n",
    "    plt.imshow(display_fft(fft_im), cmap = \"gray\")\n",
    "    plt.show()\n",
    "\n",
    "display_image_with_fft(make_sinus_image(32, 2))\n",
    "display_image_with_fft(make_sinus_image(32, 4))\n",
    "display_image_with_fft(make_sinus_image(32, 8))"
   ]
  },
  {
   "cell_type": "markdown",
   "metadata": {
    "deletable": false,
    "editable": false,
    "run_control": {
     "frozen": true
    }
   },
   "source": [
    "As we can see from this example horisiontal sinusoidals become impulses on the horisontal axis in the fourier domain. The position of the impulses is dependent on the frequency of the sinus signals.\n",
    "\n",
    "Each pixel in the fourier domain represents a sinusoidal with one specific frequency in the spatial domain. The distance from origo in the frequency domain determines the frequency of the sinusoidal, and the angle determines direction of the sinusoidal. This can be demonstrated in numpy like this:"
   ]
  },
  {
   "cell_type": "code",
   "execution_count": null,
   "metadata": {},
   "outputs": [],
   "source": [
    "def visualize_fft_and_inverse(fft_image):\n",
    "    plt.figure()\n",
    "    plt.subplot(1,2,1)\n",
    "    plt.imshow(fft_image, cmap=\"gray\")\n",
    "    spatial = np.fft.ifft2(np.fft.ifftshift(image)).real\n",
    "    plt.subplot(1,2,2)\n",
    "    plt.imshow(spatial, cmap = \"gray\")\n",
    "    plt.show()\n",
    "\n",
    "    \n",
    "positions = [(22,15), (16,20), (12, 12), (10, 16)]\n",
    "for i, j in positions:\n",
    "    image = np.zeros((32,32))\n",
    "    image[i,j] = 1.\n",
    "    visualize_fft_and_inverse(image)"
   ]
  },
  {
   "cell_type": "markdown",
   "metadata": {
    "deletable": false,
    "editable": false,
    "run_control": {
     "frozen": true
    }
   },
   "source": [
    "An important result from the fourier analysis states that all periodic, piecewise continous functions can be represented by a sum of trigonometric functions. This means that other, more complex structures and patterns may be decomposed into sums of sinus and cosinus functions. Here, this will be demonstrated by converting a square-impulse-function to the frequency-domain"
   ]
  },
  {
   "cell_type": "code",
   "execution_count": null,
   "metadata": {},
   "outputs": [],
   "source": [
    "square_impulse_image = np.array([[1. if i%8 > 3 else 0. for i in range(32)] for j in range(32)])\n",
    "checkers = np.array([[1. if (i%16> 7)^(j % 16 > 7)   else 0. for i in range(32)] for j in range(32)])\n",
    "display_image_with_fft(square_impulse_image)\n",
    "display_image_with_fft(checkers)"
   ]
  },
  {
   "cell_type": "markdown",
   "metadata": {
    "deletable": false,
    "editable": false,
    "run_control": {
     "frozen": true
    }
   },
   "source": [
    "We can demonstrate how the fourier representation is an approximation by limiting the range of frequencies used to represent the image. We incrementally increase the number of frequencies used to reperesent the signal and see how the reconstruction quality increases."
   ]
  },
  {
   "cell_type": "code",
   "execution_count": null,
   "metadata": {},
   "outputs": [],
   "source": [
    "def display_image_and_reconstruction(image, mask):\n",
    "    fft_im = np.fft.fft2(image)\n",
    "    \n",
    "    plt.figure(figsize = (16,8))\n",
    "    plt.subplot(1,4,1)\n",
    "    plt.imshow(image, cmap = \"gray\")\n",
    "    plt.subplot(1,4,2)\n",
    "    plt.imshow(display_fft(fft_im), cmap = \"gray\")\n",
    "    fft_im *= np.fft.ifftshift(mask)\n",
    "    plt.subplot(1,4,3)\n",
    "    plt.imshow(display_fft(fft_im), cmap =\"gray\")\n",
    "    plt.subplot(1,4,4)\n",
    "    plt.imshow(np.fft.ifft2(fft_im).real, cmap = \"gray\")\n",
    "    plt.show()\n",
    "    \n",
    "\n",
    "mask = np.zeros((32,32))\n",
    "mask[14:19, 14:19] = 1.\n",
    "display_image_and_reconstruction(checkers, mask)\n",
    "    \n",
    "mask = np.zeros((32,32))\n",
    "mask[10:23, 10:23] = 1.\n",
    "display_image_and_reconstruction(checkers, mask)\n",
    "\n",
    "mask = np.zeros((32,32))\n",
    "mask[6:27, 6:27] = 1.\n",
    "display_image_and_reconstruction(checkers, mask)\n",
    "\n",
    "\n",
    "mask = np.ones((32,32))\n",
    "display_image_and_reconstruction(checkers, mask)"
   ]
  },
  {
   "cell_type": "markdown",
   "metadata": {},
   "source": [
    "## Looking at images\n",
    "Simple repetative patterns will have simple repetative fourier transforms. Transforming real images will give quite different results. Here we will look at a simple image of Gløshaugen, and see how it looks like in the fourier domain."
   ]
  },
  {
   "cell_type": "code",
   "execution_count": null,
   "metadata": {},
   "outputs": [],
   "source": [
    "image_path = \"images/gloshaugen.jpg\"\n",
    "def convert_rgb_to_gray(image):\n",
    "    return np.dot(image[...,:], [0.2989, 0.5870, 0.1140])\n",
    "\n",
    "image = convert_rgb_to_gray(plt.imread(image_path))\n",
    "plt.imshow(image, cmap = \"gray\")\n",
    "plt.show()\n",
    "\n",
    "fft_im = np.fft.fft2(image)\n",
    "plt.imshow(display_fft(fft_im), cmap = \"gray\")\n",
    "plt.show()"
   ]
  },
  {
   "cell_type": "markdown",
   "metadata": {},
   "source": [
    "It is difficult to recognise any structures from the original image in the fourier transformed image. We can take note that the fourier image has a bright vertical line, which may correspond to horisontal lines in the input image. We should also take note that the brightest region is the center. This is common for almost all images, as the center represents the average pixel value in the image.\n",
    "\n",
    "We can use the fourier representation to low-pass and high-pass filter the input image."
   ]
  },
  {
   "cell_type": "code",
   "execution_count": null,
   "metadata": {},
   "outputs": [],
   "source": [
    "im_shape = image.shape\n",
    "low_pass_filter = np.array([[1. if (i - im_shape[1]/2)**2 + (j-im_shape[0]/2)**2 < 900 else 0.\\\n",
    "                             for i in range(im_shape[1])] for j in range(im_shape[0])])\n",
    "\n",
    "high_pass_filter = 1 - low_pass_filter\n",
    "\n",
    "\n",
    "display_image_and_reconstruction(image, low_pass_filter)\n",
    "display_image_and_reconstruction(image, high_pass_filter)\n"
   ]
  },
  {
   "cell_type": "markdown",
   "metadata": {},
   "source": [
    "## Filtering out noise\n",
    "\n",
    "Using what we have learnt so far we can try to filter a noisy image. The following lines of code imports an image with repetative noise that we want to remove. We can do so by transforming the image into the fourierdomain and removing the noise frequencies there."
   ]
  },
  {
   "cell_type": "code",
   "execution_count": null,
   "metadata": {},
   "outputs": [],
   "source": [
    "image = plt.imread(\"images/noisy_strawberry.png\")[:,:,0]\n",
    "plt.imshow(image, cmap = \"gray\")\n",
    "plt.show()"
   ]
  },
  {
   "cell_type": "markdown",
   "metadata": {},
   "source": [
    "Our first step is to inspect the fourier transformed image."
   ]
  },
  {
   "cell_type": "code",
   "execution_count": null,
   "metadata": {},
   "outputs": [],
   "source": [
    "fft_image = np.fft.fft2(image)\n",
    "plt.imshow(display_fft(fft_image), cmap = \"gray\")\n",
    "plt.show()"
   ]
  },
  {
   "cell_type": "markdown",
   "metadata": {},
   "source": [
    "This image has two extra bright areas in addition to the center. These represent the noise in the original image. In order to remove the noise we can construct a filter that removes exactly those two areas and leaves everything else untouched. When constructing this filter the axes provided by matplotlib come in handy."
   ]
  },
  {
   "cell_type": "code",
   "execution_count": null,
   "metadata": {},
   "outputs": [],
   "source": [
    "mask = np.ones(image.shape)\n",
    "for i in range(400,600):\n",
    "    for j in range(700,900):\n",
    "        if((i-510)**2 + (j-800)**2 < 1000):\n",
    "            mask[i,j] = 0.\n",
    "            \n",
    "for i in range(50,150):\n",
    "    for j in range(100,200):\n",
    "        if((i-95)**2 + (j-160)**2 < 1000):\n",
    "            mask[i,j] = 0.\n",
    "plt.imshow(mask, cmap = \"gray\")\n",
    "plt.show()\n",
    "mask = np.fft.ifftshift(mask)"
   ]
  },
  {
   "cell_type": "markdown",
   "metadata": {},
   "source": [
    "The next step is to simply multiply our fourier transformed image with the filter. "
   ]
  },
  {
   "cell_type": "code",
   "execution_count": null,
   "metadata": {},
   "outputs": [],
   "source": [
    "fft_image *= mask\n",
    "plt.imshow(display_fft(fft_image), cmap = \"gray\")\n",
    "plt.show()"
   ]
  },
  {
   "cell_type": "markdown",
   "metadata": {},
   "source": [
    "Lastly, we reconstruct the image in spatial domain through the inverse transform."
   ]
  },
  {
   "cell_type": "code",
   "execution_count": null,
   "metadata": {},
   "outputs": [],
   "source": [
    "image = np.fft.ifft2(fft_image).real\n",
    "plt.imshow(image, cmap = \"gray\")\n",
    "plt.show()"
   ]
  },
  {
   "cell_type": "markdown",
   "metadata": {
    "deletable": false,
    "editable": false,
    "run_control": {
     "frozen": true
    }
   },
   "source": [
    "## Exercise\n",
    "Try to remove the noise from the following image using everything you have learnt so far this course."
   ]
  },
  {
   "cell_type": "code",
   "execution_count": null,
   "metadata": {},
   "outputs": [],
   "source": [
    "image_path = \"images/noisy_eye.png\"\n",
    "image = plt.imread(image_path)[:,:,0]\n",
    "plt.imshow(image, cmap = \"gray\")\n",
    "plt.show()\n"
   ]
  },
  {
   "cell_type": "markdown",
   "metadata": {
    "heading_collapsed": true
   },
   "source": [
    "### Example solution"
   ]
  },
  {
   "cell_type": "markdown",
   "metadata": {
    "deletable": false,
    "editable": false,
    "hidden": true,
    "run_control": {
     "frozen": true
    }
   },
   "source": [
    "First we view the image in the fourier domain and take note of where the noise is."
   ]
  },
  {
   "cell_type": "code",
   "execution_count": null,
   "metadata": {
    "hidden": true
   },
   "outputs": [],
   "source": [
    "fft_im = np.fft.fft2(image)\n",
    "plt.imshow(display_fft(fft_im), cmap = \"gray\")\n",
    "plt.show()"
   ]
  },
  {
   "cell_type": "markdown",
   "metadata": {
    "deletable": false,
    "editable": false,
    "hidden": true,
    "run_control": {
     "frozen": true
    }
   },
   "source": [
    "Then we construct a filter which filters out the noise."
   ]
  },
  {
   "cell_type": "code",
   "execution_count": null,
   "metadata": {
    "hidden": true
   },
   "outputs": [],
   "source": [
    "mask = np.ones(image.shape)\n",
    "\n",
    "for i in range(0,50):\n",
    "    for j in range(50,100):\n",
    "        if((i-20)**2 + (j-75)**2 < 50):\n",
    "            mask[i,j] = 0.05\n",
    "        elif((i-20)**2 + (j-75)**2 < 150):\n",
    "            mask[i,j] = 0.3\n",
    "            \n",
    "for i in range(100,150):\n",
    "    for j in range(0,50):\n",
    "        if((i-130)**2 + (j-25)**2 < 50):\n",
    "            mask[i,j] = 0.05\n",
    "        elif((i-130)**2 + (j-25)**2 < 150):\n",
    "            mask[i,j] = 0.3 \n",
    "\n",
    "for i in range(25,75):\n",
    "    for j in range(200,250):\n",
    "        if((i-55)**2 + (j-225)**2 < 50):\n",
    "            mask[i,j] = 0.05\n",
    "        elif((i-55)**2 + (j-225)**2 < 150):\n",
    "            mask[i,j] = 0.3\n",
    "\n",
    "\n",
    "for i in range(150,188):\n",
    "    for j in range(150,200):\n",
    "        if((i-170)**2 + (j-175)**2 < 50):\n",
    "            mask[i,j] = 0.05\n",
    "        elif((i-170)**2 + (j-175)**2 < 150):\n",
    "            mask[i,j] = 0.3\n",
    "plt.imshow(mask, cmap = \"gray\")\n",
    "plt.show()\n",
    "mask = np.fft.ifftshift(mask)"
   ]
  },
  {
   "cell_type": "markdown",
   "metadata": {
    "deletable": false,
    "editable": false,
    "hidden": true,
    "run_control": {
     "frozen": true
    }
   },
   "source": [
    "Lastly we reconstruct our image by multiplying the mask with the image in the fourier domain and inverse-transforming the result. As an additional enchantment, this solution applies histogram equalization to improve the contrast of the resulting image."
   ]
  },
  {
   "cell_type": "code",
   "execution_count": null,
   "metadata": {
    "hidden": true
   },
   "outputs": [],
   "source": [
    "def histogram_eq(image):\n",
    "    hist, bins = np.histogram(image, 256)\n",
    "    cumulative_hist = np.zeros(256)\n",
    "    cumulative_hist[0] = hist[0]\n",
    "    for i in range(1, 256):\n",
    "        cumulative_hist[i] = cumulative_hist[i-1] + hist[i]\n",
    "    cumulative_hist /= cumulative_hist[-1]\n",
    "    table = (cumulative_hist * 255).astype(np.uint8)\n",
    "    new_im = table[image[:,:]]\n",
    "    return new_im\n"
   ]
  },
  {
   "cell_type": "code",
   "execution_count": null,
   "metadata": {
    "hidden": true
   },
   "outputs": [],
   "source": [
    "plt.imshow(display_fft(fft_im*mask), cmap=\"gray\")\n",
    "plt.show()\n",
    "\n",
    "plt.imshow(image, cmap = \"gray\")\n",
    "plt.show()\n",
    "reconstruct = np.fft.ifft2(fft_im*mask).real\n",
    "reconstruct -= reconstruct.min()\n",
    "reconstruct /= reconstruct.max()\n",
    "\n",
    "reconstruct *= 255.\n",
    "reconstruct = reconstruct.astype(np.uint8)\n",
    "plt.imshow(reconstruct, cmap = \"gray\")\n",
    "plt.show()\n",
    "reconstruct = histogram_eq(reconstruct)\n",
    "plt.imshow(reconstruct, cmap = \"gray\")\n",
    "plt.show()"
   ]
  }
 ],
 "metadata": {
  "kernelspec": {
   "display_name": "Python tdt4195",
   "language": "python",
   "name": "tdt4195"
  },
  "language_info": {
   "codemirror_mode": {
    "name": "ipython",
    "version": 3
   },
   "file_extension": ".py",
   "mimetype": "text/x-python",
   "name": "python",
   "nbconvert_exporter": "python",
   "pygments_lexer": "ipython3",
   "version": "3.6.9"
  }
 },
 "nbformat": 4,
 "nbformat_minor": 2
}
