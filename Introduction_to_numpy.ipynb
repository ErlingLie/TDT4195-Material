{
 "cells": [
  {
   "cell_type": "markdown",
   "metadata": {
    "deletable": false,
    "editable": false,
    "run_control": {
     "frozen": true
    }
   },
   "source": [
    "# Introduction to numpy for image processing\n",
    "\n",
    "In image processing we often want to manipulate images through programming. This is best done with high level programming languages such as python or Matlab. This course's assignments will mostly focus on image processing with python. \n",
    "\n",
    "Digital images are arrays of pixels in three dimensions *HxWxC*. *C* stands for channel or color channel and the size of that dimension is equal to the number of color channels. Three examples of common color spaces are RGB, HSV and CMYK."
   ]
  },
  {
   "cell_type": "markdown",
   "metadata": {
    "deletable": false,
    "editable": false,
    "run_control": {
     "frozen": true
    }
   },
   "source": [
    "## Introduction"
   ]
  },
  {
   "cell_type": "markdown",
   "metadata": {
    "deletable": false,
    "editable": false,
    "run_control": {
     "frozen": true
    }
   },
   "source": [
    "### First look at numpy\n",
    "Numpy is a python library for matrix manipulation and adds support for a number of high-level mathematical operations. Numpy allows for vectorization of operations which is alot faster than traditional for-loops in python.\n",
    "\n",
    "To get started with numpy we must import the library. The short-hand np is standarized, and is the recommended way to import numpy."
   ]
  },
  {
   "cell_type": "code",
   "execution_count": null,
   "metadata": {},
   "outputs": [],
   "source": [
    "import numpy as np"
   ]
  },
  {
   "cell_type": "markdown",
   "metadata": {
    "deletable": false,
    "editable": false,
    "run_control": {
     "frozen": true
    }
   },
   "source": [
    "We can then declare zero-initialized arrays or declare arrays from existing python lists. There are of course a number of other possible options for initializing our arrays which can be explored in the [docs](https://numpy.org/doc/stable/reference/routines.array-creation.html)."
   ]
  },
  {
   "cell_type": "code",
   "execution_count": null,
   "metadata": {},
   "outputs": [],
   "source": [
    "python_list = [[1.  if (i + j) % 2 == 0 else 0. for i in range(8)] for j in range(8)]\n",
    "\n",
    "np_from_list = np.array(python_list)\n",
    "print(np_from_list)\n",
    "\n",
    "#When initializing an array without any data we must provide the dimensions\n",
    "np_zero = np.zeros((8,8))\n",
    "print(np_zero)"
   ]
  },
  {
   "cell_type": "markdown",
   "metadata": {
    "deletable": false,
    "editable": false,
    "run_control": {
     "frozen": true
    }
   },
   "source": [
    "Most often we do not want to view the matrices as numbers, we want to visualize them as images. This can be done by utilising another python library which builds on numpy: matplotlib."
   ]
  },
  {
   "cell_type": "code",
   "execution_count": null,
   "metadata": {},
   "outputs": [],
   "source": [
    "from matplotlib import pyplot as plt"
   ]
  },
  {
   "cell_type": "code",
   "execution_count": null,
   "metadata": {},
   "outputs": [],
   "source": [
    "plt.imshow(np_from_list, cmap = \"gray\")\n",
    "plt.show()\n",
    "plt.imshow(np_zero, cmap = \"gray\")\n",
    "plt.show()"
   ]
  },
  {
   "cell_type": "markdown",
   "metadata": {
    "deletable": false,
    "editable": false,
    "run_control": {
     "frozen": true
    }
   },
   "source": [
    "### Importing images\n",
    "\n",
    "We now demonstrated how to visualize images, but checkerboards and all black frames are not very interesting. This next step will show how we can utilise matplotlib to read images and import them into numpy arrays."
   ]
  },
  {
   "cell_type": "code",
   "execution_count": null,
   "metadata": {},
   "outputs": [],
   "source": [
    "image_path = \"images/strawberry.jpg\"\n",
    "\n",
    "im_array = plt.imread(image_path)\n",
    "plt.imshow(im_array)\n",
    "plt.show()"
   ]
  },
  {
   "cell_type": "markdown",
   "metadata": {
    "deletable": false,
    "editable": false,
    "run_control": {
     "frozen": true
    }
   },
   "source": [
    "Often we want to know the dimensions of our image. This can be done like this:"
   ]
  },
  {
   "cell_type": "code",
   "execution_count": null,
   "metadata": {},
   "outputs": [],
   "source": [
    "shape = im_array.shape\n",
    "print(f\"Image dimensions: {shape}\")"
   ]
  },
  {
   "cell_type": "markdown",
   "metadata": {
    "deletable": false,
    "editable": false,
    "run_control": {
     "frozen": true
    }
   },
   "source": [
    "From this we see that pyplot imports images in the order *HxWxC*."
   ]
  },
  {
   "cell_type": "markdown",
   "metadata": {},
   "source": [
    "### Intensity transformations\n",
    "\n",
    "Some of the simplest image processing operations are intensity transformations or point processing operations. Intensity transformations are image operations that operate on each pixel individually without respect to the neighbouring pixels. This is in contrast to neighbourhood processing, which assesses the neighbourhood around each pixel in order to transform it.\n",
    "\n",
    "A simpel operation is inverting the image. With numpy this can be done easily, as all matematical operations are implicitly done on all elements of the array."
   ]
  },
  {
   "cell_type": "code",
   "execution_count": null,
   "metadata": {},
   "outputs": [],
   "source": [
    "inverted = 255 - im_array\n",
    "plt.imshow(inverted)\n",
    "plt.show()"
   ]
  },
  {
   "cell_type": "markdown",
   "metadata": {
    "deletable": false,
    "editable": false,
    "run_control": {
     "frozen": true
    }
   },
   "source": [
    "In intensity transforms each pixel is assigned a new color according to a scalar function:\n",
    "$$c' = f(c)$$\n",
    "\n",
    "The function f can vary alot depending on what we want to do. The following snippet displays some common mathematical operations that we can apply to images."
   ]
  },
  {
   "cell_type": "code",
   "execution_count": null,
   "metadata": {},
   "outputs": [],
   "source": [
    "#First we want to convert our image from an [0, 256] uint8 array to a [0.0, 1.0] float array.\n",
    "float_im = im_array/255.\n",
    "\n",
    "log_transform = np.log(1 + float_im)\n",
    "plt.imshow(log_transform)\n",
    "plt.show()\n",
    "\n",
    "exp_transform = (np.exp(float_im) - 1)/(np.e - 1)\n",
    "plt.imshow(exp_transform)\n",
    "plt.show()\n",
    "\n",
    "gamma_transform = np.power(float_im, 0.5)\n",
    "plt.imshow(gamma_transform)\n",
    "plt.show()\n",
    "\n",
    "gamma_transform = np.power(float_im, 3)\n",
    "plt.imshow(gamma_transform)\n",
    "plt.show()\n",
    "\n",
    "\n",
    "threshold_transform = np.where(float_im > 0.5, 1.0, 0.0)\n",
    "plt.imshow(threshold_transform)\n",
    "plt.show()"
   ]
  },
  {
   "cell_type": "markdown",
   "metadata": {
    "deletable": false,
    "editable": false,
    "run_control": {
     "frozen": true
    }
   },
   "source": [
    "### Slicing in numpy\n",
    "\n",
    "Numpy arrays can be indexed and sliced as normal python lists, but the syntax is a bit different."
   ]
  },
  {
   "cell_type": "code",
   "execution_count": null,
   "metadata": {},
   "outputs": [],
   "source": [
    "im_copy = im_array.copy()\n",
    "im_copy[100:400, 100:400, :] = [0, 0, 255]\n",
    "plt.imshow(im_copy)\n",
    "plt.show()"
   ]
  },
  {
   "cell_type": "markdown",
   "metadata": {},
   "source": [
    "### Histogram equalization\n",
    "\n",
    "Histogram equalization is a method used in image processing to improve contrast in images. It stretches the dynamic range for the most frequent intensity values, effectively spreading them out over the whole range of possible values. Normally this will imporve the contrast of images, brighten dark images and darken bright images."
   ]
  },
  {
   "cell_type": "code",
   "execution_count": null,
   "metadata": {},
   "outputs": [],
   "source": [
    "def histogram_eq(image):\n",
    "    #First we calculate the histogram.\n",
    "    hist, bins = np.histogram(image[:,:], 256)\n",
    "    \n",
    "    #Then we calculate the cumulative histogram\n",
    "    cumulative_hist = np.zeros((256), dtype = np.int)\n",
    "    cumulative_hist[0] = hist[0]\n",
    "    for i in range(1, 256):\n",
    "        cumulative_hist[i] = cumulative_hist[i-1] + hist[i]\n",
    "    \n",
    "    #Then we normalize the histogram to [0., 1.]\n",
    "    normalized_cumulative_hist = cumulative_hist.astype(float)\n",
    "    normalized_cumulative_hist /= normalized_cumulative_hist[-1]\n",
    "    \n",
    "    #Then we construct an intensity mapping table by multiplying with the maximum intensity value\n",
    "    table = (normalized_cumulative_hist * 255).astype(np.uint8)\n",
    "    \n",
    "    #Lastly we create the new image by mapping each of the old intensities to the new corresponding intensity\n",
    "    new_im = table[image[:,:]]\n",
    "    return new_im\n",
    "\n",
    "\n",
    "image = plt.imread(\"images/low_contrast_butterfly.tiff\")[:,:,0]\n",
    "plt.figure(figsize = (20,5))\n",
    "plt.subplot(1,2,1)\n",
    "plt.imshow(image, cmap = \"gray\")\n",
    "image = histogram_eq(image)\n",
    "plt.subplot(1,2,2)\n",
    "plt.imshow(image, cmap = \"gray\")\n",
    "plt.show()\n",
    "\n",
    "\n",
    "\n",
    "image = plt.imread(\"images/high_contrast_butterfly.tiff\")[:,:,0]\n",
    "plt.figure(figsize = (20,5))\n",
    "plt.subplot(1,2,1)\n",
    "plt.imshow(image, cmap = \"gray\")\n",
    "image = histogram_eq(image)\n",
    "plt.subplot(1,2,2)\n",
    "plt.imshow(image, cmap = \"gray\")\n",
    "plt.show()\n",
    "\n",
    "\n"
   ]
  },
  {
   "cell_type": "markdown",
   "metadata": {
    "deletable": false,
    "editable": false,
    "run_control": {
     "frozen": true
    }
   },
   "source": [
    "## Exercises"
   ]
  },
  {
   "cell_type": "markdown",
   "metadata": {
    "deletable": false,
    "editable": false,
    "run_control": {
     "frozen": true
    }
   },
   "source": [
    "### 1. Array creation\n",
    "Declare a 255x255x1 black/white image which is all black except for a white circle in the middle. Display the image to screen."
   ]
  },
  {
   "cell_type": "code",
   "execution_count": null,
   "metadata": {},
   "outputs": [],
   "source": [
    "#Write your code here"
   ]
  },
  {
   "cell_type": "markdown",
   "metadata": {
    "heading_collapsed": true
   },
   "source": [
    "#### Example solution"
   ]
  },
  {
   "cell_type": "code",
   "execution_count": null,
   "metadata": {
    "hidden": true
   },
   "outputs": [],
   "source": [
    "python_list = [[1. if ((i-127)**2 + (j-127)**2 < 900) else 0. for i in range(255)] for j in range(255)]\n",
    "np_array = np.array(python_list)\n",
    "plt.imshow(np_array, cmap = \"gray\")\n",
    "plt.show()"
   ]
  },
  {
   "cell_type": "markdown",
   "metadata": {
    "deletable": false,
    "editable": false,
    "run_control": {
     "frozen": true
    }
   },
   "source": [
    "### 2. Intensity transform\n",
    "\n",
    "Import the image from the given path. Apply a gamma transform to a rectangular slice of the image."
   ]
  },
  {
   "cell_type": "code",
   "execution_count": null,
   "metadata": {},
   "outputs": [],
   "source": [
    "im_path = \"images/eye_closeup.jpg\"\n",
    "#Write your code here."
   ]
  },
  {
   "cell_type": "markdown",
   "metadata": {
    "heading_collapsed": true
   },
   "source": [
    "#### Example solution"
   ]
  },
  {
   "cell_type": "code",
   "execution_count": null,
   "metadata": {
    "hidden": true
   },
   "outputs": [],
   "source": [
    "image = plt.imread(im_path)\n",
    "image = image/255.\n",
    "\n",
    "image[100:800, 100:750, :] = np.power(image[100:800, 100:750, :], 3)\n",
    "\n",
    "plt.imshow(image)\n",
    "plt.show()"
   ]
  },
  {
   "cell_type": "markdown",
   "metadata": {
    "deletable": false,
    "editable": false,
    "run_control": {
     "frozen": true
    }
   },
   "source": [
    "### 3. Creative task\n",
    "\n",
    "Take the original strawberry image from the introduction and see if you can change the background color from blue to something else without affecting the non-background objects too much."
   ]
  },
  {
   "cell_type": "code",
   "execution_count": null,
   "metadata": {},
   "outputs": [],
   "source": [
    "image_path = \"images/strawberry.jpg\"\n",
    "\n",
    "image = plt.imread(image_path)"
   ]
  },
  {
   "cell_type": "markdown",
   "metadata": {
    "heading_collapsed": true
   },
   "source": [
    "#### Example solution\n",
    "This could probably be vectorized for performance, but displays the idea nicely."
   ]
  },
  {
   "cell_type": "code",
   "execution_count": null,
   "metadata": {
    "hidden": true
   },
   "outputs": [],
   "source": [
    "result = np.zeros_like(image)\n",
    "for y in range(image.shape[0]):\n",
    "    for x in range(image.shape[1]):\n",
    "        #Set the pixel to black if blue is the dominant color\n",
    "        result[y,x,:] = image[y,x,:] if image[y,x,0]**2 + image[y,x,1]**2 > image[y,x,2]**2 else [0,0,0]\n",
    "plt.imshow(result)\n",
    "plt.show()\n",
    "\n",
    "result = np.zeros_like(image)\n",
    "for y in range(image.shape[0]):\n",
    "    for x in range(image.shape[1]):\n",
    "        result[y,x,:] = image[y,x,:] if image[y,x,0]**2 + image[y,x,1]**2 < image[y,x,2]**2 else [0,0,0]\n",
    "plt.imshow(result)\n",
    "plt.show()"
   ]
  },
  {
   "cell_type": "code",
   "execution_count": null,
   "metadata": {
    "hidden": true
   },
   "outputs": [],
   "source": []
  }
 ],
 "metadata": {
  "kernelspec": {
   "display_name": "Python tdt4195",
   "language": "python",
   "name": "tdt4195"
  },
  "language_info": {
   "codemirror_mode": {
    "name": "ipython",
    "version": 3
   },
   "file_extension": ".py",
   "mimetype": "text/x-python",
   "name": "python",
   "nbconvert_exporter": "python",
   "pygments_lexer": "ipython3",
   "version": "3.6.9"
  }
 },
 "nbformat": 4,
 "nbformat_minor": 2
}
