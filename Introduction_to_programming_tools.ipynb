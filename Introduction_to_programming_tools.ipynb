{
 "cells": [
  {
   "cell_type": "markdown",
   "metadata": {},
   "source": [
    "# Python tools for image processing\n",
    "\n",
    "In image processing we often want to manipulate images through programming. This is best done with high level programming languages such as python or Matlab. This course's assignments will mostly focus on image processing with python. \n",
    "\n",
    "Digital images are arrays of pixels in three dimensions *HxWxC*. *C* stands for channel or color channel and the size of that dimension is equal to the number of color channels. Three examples of common color spaces are RGB, HSV and CMYK."
   ]
  },
  {
   "cell_type": "markdown",
   "metadata": {
    "heading_collapsed": true
   },
   "source": [
    "## Short introduction to jupyter notebooks\n",
    "\n",
    "Jupyter notebooks are a common tool in the scientific community. They allow you to combine text and code seamlessly, and allow simple execution of short code snippets."
   ]
  },
  {
   "cell_type": "markdown",
   "metadata": {
    "deletable": false,
    "editable": false,
    "hidden": true,
    "run_control": {
     "frozen": true
    }
   },
   "source": [
    "### Basic usage\n",
    "\n",
    "You can create new cells by clicking the + icon in the task bar. Then you can choose what type of cell to create from the drop down menu. Markdown and code cells are what you will be using for the most part. \n",
    "\n",
    "Intuitively you may execute code or compile the markdown text with the same command: \"shift + enter\". Within each python cell you may import modules and execute code just like in a normal .py file or in a python shell. Markdown in jupyter notebooks support all common markdown features, and a handy cheatsheet can be found [here](https://github.com/adam-p/markdown-here/wiki/Markdown-Cheatsheet#code). In addition to the operations defined there, you may write mathematical expressions with latex syntax.\n",
    "\n",
    "Example:\n",
    "\n",
    "$$ f(z) = \\frac{1}{1 + e^{- z}}$$"
   ]
  },
  {
   "cell_type": "markdown",
   "metadata": {
    "hidden": true
   },
   "source": [
    "### Widgets\n",
    "This and further notebooks will utilize ipywidgets for interactive demonstrations. A short introduction can be found [here](https://ipywidgets.readthedocs.io/en/latest/examples/Widget%20Basics.html) and [here](https://ipywidgets.readthedocs.io/en/latest/examples/Using%20Interact.html)."
   ]
  },
  {
   "cell_type": "markdown",
   "metadata": {
    "heading_collapsed": true
   },
   "source": [
    "## Introduction to numpy and matplotlib\n",
    "\n",
    "This section is supposed to give a short and simple introduction to numpy. If you already are familiar with the tools, feel free to skip this section. On the other hand, if you need a more thorough and extensive introduction it can be found [here](https://towardsdatascience.com/the-ultimate-beginners-guide-to-numpy-f5a2f99aef54)."
   ]
  },
  {
   "cell_type": "markdown",
   "metadata": {
    "heading_collapsed": true,
    "hidden": true
   },
   "source": [
    "### First look at numpy\n",
    "Numpy is a python library for matrix manipulation and adds support for a number of high-level mathematical operations. Numpy allows for vectorization of operations which is alot faster than traditional for-loops in python.\n",
    "\n",
    "To get started with numpy we must import the library. The short-hand np is standarized, and is the recommended way to import numpy."
   ]
  },
  {
   "cell_type": "code",
   "execution_count": 3,
   "metadata": {
    "hidden": true
   },
   "outputs": [],
   "source": [
    "import numpy as np"
   ]
  },
  {
   "cell_type": "markdown",
   "metadata": {
    "deletable": false,
    "editable": false,
    "hidden": true,
    "run_control": {
     "frozen": true
    }
   },
   "source": [
    "We can then declare zero-initialized arrays or declare arrays from existing python lists. There are of course a number of other possible options for initializing our arrays which can be explored in the [docs](https://numpy.org/doc/stable/reference/routines.array-creation.html)."
   ]
  },
  {
   "cell_type": "code",
   "execution_count": 8,
   "metadata": {
    "hidden": true
   },
   "outputs": [
    {
     "name": "stdout",
     "output_type": "stream",
     "text": [
      "[[1. 0. 1. 0. 1. 0. 1. 0.]\n",
      " [0. 1. 0. 1. 0. 1. 0. 1.]\n",
      " [1. 0. 1. 0. 1. 0. 1. 0.]\n",
      " [0. 1. 0. 1. 0. 1. 0. 1.]\n",
      " [1. 0. 1. 0. 1. 0. 1. 0.]\n",
      " [0. 1. 0. 1. 0. 1. 0. 1.]\n",
      " [1. 0. 1. 0. 1. 0. 1. 0.]\n",
      " [0. 1. 0. 1. 0. 1. 0. 1.]]\n",
      "[[0. 0. 0. 0. 0. 0. 0. 0.]\n",
      " [0. 0. 0. 0. 0. 0. 0. 0.]\n",
      " [0. 0. 0. 0. 0. 0. 0. 0.]\n",
      " [0. 0. 0. 0. 0. 0. 0. 0.]\n",
      " [0. 0. 0. 0. 0. 0. 0. 0.]\n",
      " [0. 0. 0. 0. 0. 0. 0. 0.]\n",
      " [0. 0. 0. 0. 0. 0. 0. 0.]\n",
      " [0. 0. 0. 0. 0. 0. 0. 0.]]\n"
     ]
    }
   ],
   "source": [
    "python_list = [[1.  if (i + j) % 2 == 0 else 0. for i in range(8)] for j in range(8)]\n",
    "\n",
    "np_from_list = np.array(python_list)\n",
    "print(np_from_list)\n",
    "\n",
    "#When initializing an array without any data we must provide the dimensions\n",
    "np_zero = np.zeros((8,8))\n",
    "print(np_zero)"
   ]
  },
  {
   "cell_type": "markdown",
   "metadata": {
    "heading_collapsed": true,
    "hidden": true
   },
   "source": [
    "### Displaying images\n",
    "Most often we do not want to view the matrices as numbers, we want to visualize them as images. This can be done by utilising another python library which builds on numpy: matplotlib."
   ]
  },
  {
   "cell_type": "code",
   "execution_count": 4,
   "metadata": {
    "hidden": true
   },
   "outputs": [],
   "source": [
    "from matplotlib import pyplot as plt"
   ]
  },
  {
   "cell_type": "markdown",
   "metadata": {
    "hidden": true
   },
   "source": [
    "We display images with the method imshow. If we want to display grayscale images we must supply the color map argument *cmap* as \"gray\". Gray-scale images will be normalized for us, so we usually do not need to worry if we supply negative values or intensities not within the $[0, 255]$ range."
   ]
  },
  {
   "cell_type": "code",
   "execution_count": 9,
   "metadata": {
    "hidden": true
   },
   "outputs": [
    {
     "data": {
      "image/png": "[encoded data removed]",
      "text/plain": [
       "<Figure size 432x288 with 1 Axes>"
      ]
     },
     "metadata": {
      "needs_background": "light"
     },
     "output_type": "display_data"
    },
    {
     "data": {
      "image/png": "[encoded data removed]",
      "text/plain": [
       "<Figure size 432x288 with 1 Axes>"
      ]
     },
     "metadata": {
      "needs_background": "light"
     },
     "output_type": "display_data"
    }
   ],
   "source": [
    "plt.imshow(np_from_list, cmap = \"gray\")\n",
    "plt.show()\n",
    "plt.imshow(np_zero, cmap = \"gray\")\n",
    "plt.show()"
   ]
  },
  {
   "cell_type": "markdown",
   "metadata": {
    "hidden": true
   },
   "source": [
    "Since images are normalized, we will often encounter problems if we want to display really bright or dark images. The extreme case is trying to display all white images."
   ]
  },
  {
   "cell_type": "code",
   "execution_count": 13,
   "metadata": {
    "hidden": true
   },
   "outputs": [
    {
     "data": {
      "image/png": "[encoded data removed]",
      "text/plain": [
       "<Figure size 432x288 with 1 Axes>"
      ]
     },
     "metadata": {
      "needs_background": "light"
     },
     "output_type": "display_data"
    }
   ],
   "source": [
    "all_white = np.array([[255 for i in range(10)] for j in range(10)], dtype = np.uint8)\n",
    "plt.title(\"An all white image\")\n",
    "plt.imshow(all_white, cmap = \"gray\")\n",
    "plt.show()"
   ]
  },
  {
   "cell_type": "markdown",
   "metadata": {
    "hidden": true
   },
   "source": [
    "The solution is to manually supply the correct min- and max-value to imshow."
   ]
  },
  {
   "cell_type": "code",
   "execution_count": 14,
   "metadata": {
    "hidden": true
   },
   "outputs": [
    {
     "data": {
      "image/png": "[encoded data removed]",
      "text/plain": [
       "<Figure size 432x288 with 1 Axes>"
      ]
     },
     "metadata": {
      "needs_background": "light"
     },
     "output_type": "display_data"
    }
   ],
   "source": [
    "plt.title(\"An all white image\")\n",
    "plt.imshow(all_white, cmap = \"gray\", vmin = 0, vmax = 255)\n",
    "plt.show()"
   ]
  },
  {
   "cell_type": "markdown",
   "metadata": {
    "heading_collapsed": true,
    "hidden": true
   },
   "source": [
    "### Making figures\n",
    "In the assigments it is often necessary to display multiple images together. A good way to do this is to make one figure with multiple subfigures."
   ]
  },
  {
   "cell_type": "code",
   "execution_count": 10,
   "metadata": {
    "hidden": true
   },
   "outputs": [
    {
     "data": {
      "image/png": "[encoded data removed]",
      "text/plain": [
       "<Figure size 1080x360 with 3 Axes>"
      ]
     },
     "metadata": {
      "needs_background": "light"
     },
     "output_type": "display_data"
    }
   ],
   "source": [
    "red_image = np.array([[[255,0,0] for i in range(10)] for j in range(10)])\n",
    "green_image = np.array([[[0,255,0] for i in range(10)] for j in range(10)])\n",
    "blue_image = np.array([[[0,0,255] for i in range(10)] for j in range(10)])\n",
    "\n",
    "#Declare a figure, size is given as w,h\n",
    "plt.figure(figsize=(15,5))\n",
    "\n",
    "#Declare a subplot, the arguments are total_rows, total_colums, current index\n",
    "plt.subplot(1,3,1)\n",
    "#Give a fitting title with plt.title\n",
    "plt.title(\"A red image\")\n",
    "plt.imshow(red_image)\n",
    "\n",
    "plt.subplot(1,3,2)\n",
    "plt.title(\"A green image\")\n",
    "plt.imshow(green_image)\n",
    "\n",
    "plt.subplot(1,3,3)\n",
    "plt.title(\"A blue image\")\n",
    "plt.imshow(blue_image)\n",
    "plt.show()"
   ]
  },
  {
   "cell_type": "markdown",
   "metadata": {
    "deletable": false,
    "editable": false,
    "heading_collapsed": true,
    "hidden": true,
    "run_control": {
     "frozen": true
    }
   },
   "source": [
    "### Importing images\n",
    "\n",
    "We now demonstrated how to visualize images, but checkerboards and all black frames are not very interesting. This next step will show how we can utilise matplotlib to read images and import them into numpy arrays."
   ]
  },
  {
   "cell_type": "code",
   "execution_count": null,
   "metadata": {
    "hidden": true
   },
   "outputs": [],
   "source": [
    "image_path = \"images/strawberry.jpg\"\n",
    "\n",
    "im_array = plt.imread(image_path)\n",
    "plt.imshow(im_array)\n",
    "plt.show()"
   ]
  },
  {
   "cell_type": "markdown",
   "metadata": {
    "heading_collapsed": true,
    "hidden": true
   },
   "source": [
    "### Checking the shape of an array\n",
    "Often we want to know the dimensions of our image. This can be done like this:"
   ]
  },
  {
   "cell_type": "code",
   "execution_count": null,
   "metadata": {
    "hidden": true
   },
   "outputs": [],
   "source": [
    "shape = im_array.shape\n",
    "print(f\"Image dimensions: {shape}\")"
   ]
  },
  {
   "cell_type": "markdown",
   "metadata": {
    "deletable": false,
    "editable": false,
    "hidden": true,
    "run_control": {
     "frozen": true
    }
   },
   "source": [
    "From this we see that pyplot imports images in the order *HxWxC*."
   ]
  },
  {
   "cell_type": "markdown",
   "metadata": {
    "heading_collapsed": true,
    "hidden": true
   },
   "source": [
    "### Slicing in numpy\n",
    "\n",
    "Numpy arrays can be indexed and sliced as normal python lists, but the syntax is a bit different. We comma separate the indices within one single box bracket \\[\\] instead of using one bracket for each index. "
   ]
  },
  {
   "cell_type": "code",
   "execution_count": null,
   "metadata": {
    "hidden": true
   },
   "outputs": [],
   "source": [
    "im_copy = im_array.copy()\n",
    "im_copy[100:400, 100:400, :] = [0, 0, 255]\n",
    "plt.imshow(im_copy)\n",
    "plt.show()"
   ]
  },
  {
   "cell_type": "markdown",
   "metadata": {
    "heading_collapsed": true,
    "hidden": true
   },
   "source": [
    "### Some practical applications\n",
    "Now we will take a look at a couple of practical applications."
   ]
  },
  {
   "cell_type": "markdown",
   "metadata": {
    "heading_collapsed": true,
    "hidden": true
   },
   "source": [
    "#### Translating an image\n",
    "To translate an image we make a copy of the same size. Then, for each pixel in the output image, we find the corresponding pixel in the source image."
   ]
  },
  {
   "cell_type": "code",
   "execution_count": 31,
   "metadata": {
    "hidden": true
   },
   "outputs": [
    {
     "data": {
      "application/vnd.jupyter.widget-view+json": {
       "model_id": "5417e1c02a77470d86dd6e552b95eff8",
       "version_major": 2,
       "version_minor": 0
      },
      "text/plain": [
       "interactive(children=(IntSlider(value=0, description='dy', max=500, min=-500, step=50), IntSlider(value=0, des…"
      ]
     },
     "metadata": {},
     "output_type": "display_data"
    }
   ],
   "source": [
    "from ipywidgets import interact_manual\n",
    "import ipywidgets as widgets\n",
    "def translate_image(image, dy, dx):\n",
    "    #When we want to find the corresponding pixel in source from output\n",
    "    #We must apply the inverse transform\n",
    "    dy = -dy\n",
    "    dx = -dx\n",
    "    \n",
    "    #Make a zero_initialized array of same shape as image\n",
    "    output_image = np.zeros_like(image)\n",
    "    h, w = output_image.shape[:2]\n",
    "    for x in range(w):\n",
    "        for y in range(h):\n",
    "            old_x = x + dx\n",
    "            old_y = y + dy\n",
    "            if old_x < w and old_y < h and old_x > 0 and old_y > 0:\n",
    "                output_image[y,x] = image[old_y, old_x]\n",
    "    return output_image\n",
    "\n",
    "def display_image(dy, dx):\n",
    "    image = plt.imread(\"images/strawberry.jpg\")\n",
    "    plt.imshow(translate_image(image, dy, dx))\n",
    "    plt.show()\n",
    "\n",
    "_ = interact_manual(display_image, dy = widgets.IntSlider(min=-500, max= 500, step=50),\\\n",
    "             dx = widgets.IntSlider(min=-500, max= 500, step=50) )"
   ]
  },
  {
   "cell_type": "markdown",
   "metadata": {
    "heading_collapsed": true,
    "hidden": true
   },
   "source": [
    "#### Rotating images\n",
    "To rotate images we apply the same techniqeue as when translating. We loop over the output image, and use the inverse transform to find the corresponding pixel in the input image. \n",
    "\n",
    "To rotate an image we apply what we have learnt about affine transformations from the graphics part of the course. We want to rotate around the middle pixel of the image, so we first translate such that the middle pixel is in origin, then we apply the inverse translation, and finally we translate back. These transformations may be combined into one matrix for faster calculations.\n",
    "\n",
    "Note that the direction of the translation seems wrong at first, and may be confusing. This is because our coordinate system has the y-axis increasing downwards instead of upwards. Then positive rotation will be clock-wise instead of counter-clockwise which we usually are accustomed to."
   ]
  },
  {
   "cell_type": "code",
   "execution_count": 30,
   "metadata": {
    "hidden": true
   },
   "outputs": [
    {
     "data": {
      "application/vnd.jupyter.widget-view+json": {
       "model_id": "50f0133361864cc78a21a96a5dc4e59d",
       "version_major": 2,
       "version_minor": 0
      },
      "text/plain": [
       "interactive(children=(IntSlider(value=0, description='deg', max=180, min=-180, step=5), Button(description='Ru…"
      ]
     },
     "metadata": {},
     "output_type": "display_data"
    }
   ],
   "source": [
    "def make_rotation_matrix(radians, dx, dy):\n",
    "    #Matrices in numpy are simply 2-dimensional arrays\n",
    "    inverse_translate = np.array([[1, 0, -dx],\n",
    "                                  [0, 1, -dy],\n",
    "                                  [0, 0,  1 ]])\n",
    "    rotation_matrix = np.array([[np.cos(radians), -np.sin(radians), 0],\n",
    "                                 [np.sin(radians),  np.cos(radians), 0],\n",
    "                                 [0, 0, 1]])\n",
    "    translate = np.array([[1, 0, dx],\n",
    "                          [0, 1, dy],\n",
    "                          [0, 0, 1 ]])\n",
    "    \n",
    "    #Matrix multiplication can be done in numpy with the @ operator\n",
    "    return translate@rotation_matrix@inverse_translate\n",
    "\n",
    "def rotate_image(image, degrees):\n",
    "    rad = degrees/180 * np.pi\n",
    "    transform_matrix = make_rotation_matrix(-rad, image.shape[1]//2, image.shape[0]//2)\n",
    "    \n",
    "    output_image = np.zeros_like(image)\n",
    "    h, w = output_image.shape[:2]\n",
    "    for y in range(h):\n",
    "        for x in range(w):\n",
    "            #When multiplying vectors and matrices we must make sure that the shapes match up\n",
    "            #The reshape method comes in handy here\n",
    "            old_x, old_y, _ = (transform_matrix @ np.array([x,y,1]).reshape((3,1))).astype(int)\n",
    "            if old_x < w and old_y < h and old_x > 0 and old_y > 0:\n",
    "                output_image[y,x] = image[old_y, old_x]\n",
    "    return output_image\n",
    "\n",
    "\n",
    "\n",
    "\n",
    "def display_image(deg):\n",
    "    image = plt.imread(\"images/strawberry.jpg\")\n",
    "    image = rotate_image(image, deg)\n",
    "    image[:15,:15] = [0,0,0]\n",
    "    plt.imshow(image)\n",
    "    plt.show()\n",
    "\n",
    "_ = interact_manual(display_image, deg = widgets.IntSlider(min=-180, max= 180, step=5))"
   ]
  },
  {
   "cell_type": "markdown",
   "metadata": {
    "deletable": false,
    "editable": false,
    "heading_collapsed": true,
    "run_control": {
     "frozen": true
    }
   },
   "source": [
    "## Reading and writing video\n",
    "Sometimes we want to work on video sequences instead of images. One such use case is applying deep learning detection models to video sequences. Generally what we usually want is to extract each individual frame from the video iteratively, or to produce a video from individual frames.\n",
    "\n",
    "This notebook will teach how to read and write video using [Open CV](https://docs.opencv.org/2.4/modules/highgui/doc/reading_and_writing_images_and_video.html#)."
   ]
  },
  {
   "cell_type": "markdown",
   "metadata": {
    "hidden": true
   },
   "source": [
    "### Reading videos\n",
    "Reading video with open cv is as simple as two function calls: one for initializing the video capture object and one for retrieving each frame."
   ]
  },
  {
   "cell_type": "code",
   "execution_count": null,
   "metadata": {
    "hidden": true
   },
   "outputs": [],
   "source": [
    "#First we need to import the module\n",
    "import cv2\n",
    "\n",
    "#Video capture is quite simple with open cv. All we need is a file path.\n",
    "file_path = \"images/traffic_video.mp4\"\n",
    "video_cap = cv2.VideoCapture(file_path)    "
   ]
  },
  {
   "cell_type": "markdown",
   "metadata": {
    "hidden": true
   },
   "source": [
    "We can get each frame iteratively by calling video_cap.read()\n",
    "The method returns a boolean retrieval value which specifies whether we successfully got an image or not."
   ]
  },
  {
   "cell_type": "code",
   "execution_count": null,
   "metadata": {
    "hidden": true
   },
   "outputs": [],
   "source": [
    "retrieval_value, frame = video_cap.read()\n",
    "plt.figure(figsize=(10,10))\n",
    "plt.imshow(frame)\n",
    "plt.show()\n",
    "#To capture all frames in the video we may use a while loop."
   ]
  },
  {
   "cell_type": "markdown",
   "metadata": {
    "hidden": true
   },
   "source": [
    "Open CV will per default use BGR images, while matplotlib uses RGB images. In order to use the two libraries together we must convert the frames to rgb."
   ]
  },
  {
   "cell_type": "code",
   "execution_count": null,
   "metadata": {
    "hidden": true
   },
   "outputs": [],
   "source": [
    "RGB_img = cv2.cvtColor(frame, cv2.COLOR_BGR2RGB)\n",
    "plt.figure(figsize=(10,10))\n",
    "plt.imshow(RGB_img)\n",
    "plt.show()"
   ]
  },
  {
   "cell_type": "markdown",
   "metadata": {
    "hidden": true
   },
   "source": [
    "To get all frames in a video, we can simply loop while the retrieval value is true. When we are done, we release the video."
   ]
  },
  {
   "cell_type": "code",
   "execution_count": null,
   "metadata": {
    "hidden": true
   },
   "outputs": [],
   "source": [
    "while(retrieval_value):\n",
    "    retrieval_value, frame = video_cap.read()\n",
    "video_cap.release()"
   ]
  },
  {
   "cell_type": "markdown",
   "metadata": {
    "hidden": true
   },
   "source": [
    "### Writing videos\n",
    "Writing videos is similarly done with Open CV. We need to define output path, fourcc, fps and frame size. Fourcc is a 4-character code of codec used to compress the frames.[List over possible fourcc's](http://www.fourcc.org/codecs.php). Usually we want to use \"mpv4\"."
   ]
  },
  {
   "cell_type": "code",
   "execution_count": null,
   "metadata": {
    "hidden": true
   },
   "outputs": [],
   "source": [
    "fourcc = cv2.VideoWriter_fourcc(*'mp4v')\n",
    "path_to_output = \"my_first_video.mp4\"\n",
    "video_writer = cv2.VideoWriter(            \n",
    "            filename= path_to_output, \n",
    "            fourcc = fourcc, \n",
    "            fps = 30.0, \n",
    "            frameSize = (512, 512))  "
   ]
  },
  {
   "cell_type": "markdown",
   "metadata": {
    "deletable": false,
    "editable": false,
    "hidden": true,
    "run_control": {
     "frozen": true
    }
   },
   "source": [
    "Writing images to video is as simple as reading images from video, all we need is one function call. In order to make a nice progress bar we can use the library tqdm and wrap our iterable for-loop."
   ]
  },
  {
   "cell_type": "code",
   "execution_count": null,
   "metadata": {
    "hidden": true
   },
   "outputs": [],
   "source": [
    "import tqdm\n",
    "for i in tqdm.tqdm(range(200)):\n",
    "    #Make the video-frame\n",
    "    image = np.array([[[i, np.sqrt((x-256)**2 + (y-256)**2)*255/i, 255-i] if (x-256)**2 + (y-256)**2 < i**2 else [255,255,255]\\\n",
    "                       for x in range(512)] for y in range(512)], dtype=np.uint8)\n",
    "    #Write the video-frame to video\n",
    "    video_writer.write(image)\n",
    "video_writer.release() "
   ]
  },
  {
   "cell_type": "markdown",
   "metadata": {
    "deletable": false,
    "editable": false,
    "heading_collapsed": true,
    "run_control": {
     "frozen": true
    }
   },
   "source": [
    "## Exercises"
   ]
  },
  {
   "cell_type": "markdown",
   "metadata": {
    "deletable": false,
    "editable": false,
    "hidden": true,
    "run_control": {
     "frozen": true
    }
   },
   "source": [
    "### 1. Array creation\n",
    "Declare a 255x255x1 black/white image which is all black except for a white circle in the middle. Display the image to screen."
   ]
  },
  {
   "cell_type": "code",
   "execution_count": null,
   "metadata": {
    "hidden": true
   },
   "outputs": [],
   "source": [
    "#Write your code here"
   ]
  },
  {
   "cell_type": "markdown",
   "metadata": {
    "heading_collapsed": true,
    "hidden": true
   },
   "source": [
    "#### Example solution"
   ]
  },
  {
   "cell_type": "code",
   "execution_count": null,
   "metadata": {
    "hidden": true
   },
   "outputs": [],
   "source": [
    "python_list = [[1. if ((i-127)**2 + (j-127)**2 < 900) else 0. for i in range(255)] for j in range(255)]\n",
    "np_array = np.array(python_list)\n",
    "plt.imshow(np_array, cmap = \"gray\")\n",
    "plt.show()"
   ]
  },
  {
   "cell_type": "markdown",
   "metadata": {
    "deletable": false,
    "editable": false,
    "hidden": true,
    "run_control": {
     "frozen": true
    }
   },
   "source": [
    "### 2. Creative task\n",
    "\n",
    "Take the original strawberry image from the introduction and see if you can change the background color from blue to something else without affecting the non-background objects too much."
   ]
  },
  {
   "cell_type": "code",
   "execution_count": null,
   "metadata": {
    "hidden": true
   },
   "outputs": [],
   "source": [
    "image_path = \"images/strawberry.jpg\"\n",
    "\n",
    "image = plt.imread(image_path)"
   ]
  },
  {
   "cell_type": "markdown",
   "metadata": {
    "heading_collapsed": true,
    "hidden": true
   },
   "source": [
    "#### Example solution\n",
    "This could probably be vectorized for performance, but displays the idea nicely."
   ]
  },
  {
   "cell_type": "code",
   "execution_count": null,
   "metadata": {
    "hidden": true
   },
   "outputs": [],
   "source": [
    "result = np.zeros_like(image)\n",
    "for y in range(image.shape[0]):\n",
    "    for x in range(image.shape[1]):\n",
    "        #Set the pixel to black if blue is the dominant color\n",
    "        result[y,x,:] = image[y,x,:] if image[y,x,0]**2 + image[y,x,1]**2 > image[y,x,2]**2 else [0,0,0]\n",
    "plt.imshow(result)\n",
    "plt.show()\n",
    "\n",
    "result = np.zeros_like(image)\n",
    "for y in range(image.shape[0]):\n",
    "    for x in range(image.shape[1]):\n",
    "        result[y,x,:] = image[y,x,:] if image[y,x,0]**2 + image[y,x,1]**2 < image[y,x,2]**2 else [0,0,0]\n",
    "plt.imshow(result)\n",
    "plt.show()"
   ]
  },
  {
   "cell_type": "code",
   "execution_count": null,
   "metadata": {
    "hidden": true
   },
   "outputs": [],
   "source": []
  }
 ],
 "metadata": {
  "kernelspec": {
   "display_name": "Python tdt4195",
   "language": "python",
   "name": "tdt4195"
  },
  "language_info": {
   "codemirror_mode": {
    "name": "ipython",
    "version": 3
   },
   "file_extension": ".py",
   "mimetype": "text/x-python",
   "name": "python",
   "nbconvert_exporter": "python",
   "pygments_lexer": "ipython3",
   "version": "3.6.9"
  }
 },
 "nbformat": 4,
 "nbformat_minor": 2
}
