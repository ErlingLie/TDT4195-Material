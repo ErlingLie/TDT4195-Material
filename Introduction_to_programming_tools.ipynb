{
 "cells": [
  {
   "cell_type": "markdown",
   "metadata": {},
   "source": [
    "# Python tools for image processing\n",
    "\n",
    "In image processing we often want to manipulate images through programming. This is best done with high level programming languages such as python or Matlab. This course's assignments will mostly focus on image processing with python. \n",
    "\n",
    "Digital images are arrays of pixels in three dimensions *HxWxC*. *C* stands for channel or color channel and the size of that dimension is equal to the number of color channels. Three examples of common color spaces are RGB, HSV and CMYK."
   ]
  },
  {
   "cell_type": "markdown",
   "metadata": {
    "heading_collapsed": true
   },
   "source": [
    "## Short introduction to jupyter notebooks\n",
    "\n",
    "Jupyter notebooks are a common tool in the scientific community. It allows you to combine text and code seamlessly, and allows simple execution of short code snippets."
   ]
  },
  {
   "cell_type": "markdown",
   "metadata": {
    "deletable": false,
    "editable": false,
    "hidden": true,
    "run_control": {
     "frozen": true
    }
   },
   "source": [
    "### Basic usage\n",
    "\n",
    "You can create new cells by clicking the + icon in the task bar. Then you can choose what type of cell to create from the drop down menu. Markdown and code cells are what you will be using for the most part. \n",
    "\n",
    "Intuitively you may execute code or compile the markdown text with the same command: \"shift + enter\". Within each python cell you may import modules and execute code just like in a normal .py file or in a python shell. Markdown in jupyter notebooks support all common markdown features, and a handy cheatsheet can be found [here](https://github.com/adam-p/markdown-here/wiki/Markdown-Cheatsheet#code). In addition to the operations defined there, you may write mathematical expressions with latex syntax.\n",
    "\n",
    "Example:\n",
    "\n",
    "$$ f(z) = \\frac{1}{1 + e^{- z}}$$"
   ]
  },
  {
   "cell_type": "markdown",
   "metadata": {
    "heading_collapsed": true
   },
   "source": [
    "## Introduction to numpy and matplotlib\n",
    "\n",
    "This section is supposed to give a short and simple introduction to numpy. If you already are familiar with the tools, feel free to skip this section. On the other hand, if you need a more thorough and extensive introduction it can be found [here](https://towardsdatascience.com/the-ultimate-beginners-guide-to-numpy-f5a2f99aef54)."
   ]
  },
  {
   "cell_type": "markdown",
   "metadata": {
    "heading_collapsed": true,
    "hidden": true
   },
   "source": [
    "### First look at numpy\n",
    "Numpy is a python library for matrix manipulation and adds support for a number of high-level mathematical operations. Numpy allows for vectorization of operations which is alot faster than traditional for-loops in python.\n",
    "\n",
    "To get started with numpy we must import the library. The short-hand np is standarized, and is the recommended way to import numpy."
   ]
  },
  {
   "cell_type": "code",
   "execution_count": null,
   "metadata": {
    "hidden": true
   },
   "outputs": [],
   "source": [
    "import numpy as np"
   ]
  },
  {
   "cell_type": "markdown",
   "metadata": {
    "deletable": false,
    "editable": false,
    "hidden": true,
    "run_control": {
     "frozen": true
    }
   },
   "source": [
    "We can then declare zero-initialized arrays or declare arrays from existing python lists. There are of course a number of other possible options for initializing our arrays which can be explored in the [docs](https://numpy.org/doc/stable/reference/routines.array-creation.html)."
   ]
  },
  {
   "cell_type": "code",
   "execution_count": null,
   "metadata": {
    "hidden": true
   },
   "outputs": [],
   "source": [
    "python_list = [[1.  if (i + j) % 2 == 0 else 0. for i in range(8)] for j in range(8)]\n",
    "\n",
    "np_from_list = np.array(python_list)\n",
    "print(np_from_list)\n",
    "\n",
    "#When initializing an array without any data we must provide the dimensions\n",
    "np_zero = np.zeros((8,8))\n",
    "print(np_zero)"
   ]
  },
  {
   "cell_type": "markdown",
   "metadata": {
    "heading_collapsed": true,
    "hidden": true
   },
   "source": [
    "### Displaying images\n",
    "Most often we do not want to view the matrices as numbers, we want to visualize them as images. This can be done by utilising another python library which builds on numpy: matplotlib."
   ]
  },
  {
   "cell_type": "code",
   "execution_count": null,
   "metadata": {
    "hidden": true
   },
   "outputs": [],
   "source": [
    "from matplotlib import pyplot as plt"
   ]
  },
  {
   "cell_type": "code",
   "execution_count": null,
   "metadata": {
    "hidden": true
   },
   "outputs": [],
   "source": [
    "plt.imshow(np_from_list, cmap = \"gray\")\n",
    "plt.show()\n",
    "plt.imshow(np_zero, cmap = \"gray\")\n",
    "plt.show()"
   ]
  },
  {
   "cell_type": "markdown",
   "metadata": {
    "deletable": false,
    "editable": false,
    "heading_collapsed": true,
    "hidden": true,
    "run_control": {
     "frozen": true
    }
   },
   "source": [
    "### Importing images\n",
    "\n",
    "We now demonstrated how to visualize images, but checkerboards and all black frames are not very interesting. This next step will show how we can utilise matplotlib to read images and import them into numpy arrays."
   ]
  },
  {
   "cell_type": "code",
   "execution_count": null,
   "metadata": {
    "hidden": true
   },
   "outputs": [],
   "source": [
    "image_path = \"images/strawberry.jpg\"\n",
    "\n",
    "im_array = plt.imread(image_path)\n",
    "plt.imshow(im_array)\n",
    "plt.show()"
   ]
  },
  {
   "cell_type": "markdown",
   "metadata": {
    "heading_collapsed": true,
    "hidden": true
   },
   "source": [
    "### Checking the shape of an array\n",
    "Often we want to know the dimensions of our image. This can be done like this:"
   ]
  },
  {
   "cell_type": "code",
   "execution_count": null,
   "metadata": {
    "hidden": true
   },
   "outputs": [],
   "source": [
    "shape = im_array.shape\n",
    "print(f\"Image dimensions: {shape}\")"
   ]
  },
  {
   "cell_type": "markdown",
   "metadata": {
    "deletable": false,
    "editable": false,
    "hidden": true,
    "run_control": {
     "frozen": true
    }
   },
   "source": [
    "From this we see that pyplot imports images in the order *HxWxC*."
   ]
  },
  {
   "cell_type": "markdown",
   "metadata": {
    "deletable": false,
    "editable": false,
    "heading_collapsed": true,
    "hidden": true,
    "run_control": {
     "frozen": true
    }
   },
   "source": [
    "### Slicing in numpy\n",
    "\n",
    "Numpy arrays can be indexed and sliced as normal python lists, but the syntax is a bit different."
   ]
  },
  {
   "cell_type": "code",
   "execution_count": null,
   "metadata": {
    "hidden": true
   },
   "outputs": [],
   "source": [
    "im_copy = im_array.copy()\n",
    "im_copy[100:400, 100:400, :] = [0, 0, 255]\n",
    "plt.imshow(im_copy)\n",
    "plt.show()"
   ]
  },
  {
   "cell_type": "markdown",
   "metadata": {},
   "source": [
    "## Reading and writing video\n",
    "Sometimes we want to work on video sequences instead of images. One such use case is applying deep learning detection models to video sequences. Generally what we usually want is to extract each individual frame from the video iteratively, or to produce a video from individual frames."
   ]
  },
  {
   "cell_type": "markdown",
   "metadata": {},
   "source": [
    "### Reading videos\n",
    "This notebook will teach how to read and write video using [Open CV](https://docs.opencv.org/2.4/modules/highgui/doc/reading_and_writing_images_and_video.html#)."
   ]
  },
  {
   "cell_type": "code",
   "execution_count": null,
   "metadata": {},
   "outputs": [],
   "source": [
    "#First we need to import the module\n",
    "import cv2\n",
    "\n",
    "#Video capture is quite simple with open cv. All we need is a file path.\n",
    "file_path = \"images/traffic_video.mp4\"\n",
    "video_cap = cv2.VideoCapture(file_path)    "
   ]
  },
  {
   "cell_type": "markdown",
   "metadata": {},
   "source": [
    "We can get each frame iteratively by calling video_cap.read()\n",
    "The method returns a boolean retrieval value which specifies whether we successfully got an image or not."
   ]
  },
  {
   "cell_type": "code",
   "execution_count": null,
   "metadata": {},
   "outputs": [],
   "source": [
    "retrieval_value, frame = video_cap.read()\n",
    "plt.figure(figsize=(10,10))\n",
    "plt.imshow(frame)\n",
    "plt.show()\n",
    "#To capture all frames in the video we may use a while loop."
   ]
  },
  {
   "cell_type": "markdown",
   "metadata": {},
   "source": [
    "Open CV will per default use BGR images, while matplotlib uses RGB images. In order to use the two libraries together we must convert the frames to rgb."
   ]
  },
  {
   "cell_type": "code",
   "execution_count": null,
   "metadata": {},
   "outputs": [],
   "source": [
    "RGB_img = cv2.cvtColor(frame, cv2.COLOR_BGR2RGB)\n",
    "plt.figure(figsize=(10,10))\n",
    "plt.imshow(RGB_img)\n",
    "plt.show()"
   ]
  },
  {
   "cell_type": "markdown",
   "metadata": {},
   "source": [
    "To get all frames in a video, we can simply loop while the retrival value is true. When we are done, we release the video."
   ]
  },
  {
   "cell_type": "code",
   "execution_count": null,
   "metadata": {},
   "outputs": [],
   "source": [
    "while(retrieval_value):\n",
    "    retrieval_value, frame = video_cap.read()\n",
    "video_cap.release()"
   ]
  },
  {
   "cell_type": "markdown",
   "metadata": {},
   "source": [
    "### Writing videos\n",
    "Writing videos is similarly done with Open CV. We need to define output path, fourcc, fps and frame size. Fourcc is a 4-character code of codec used to compress the frames.[List over possible fourcc's](http://www.fourcc.org/codecs.php). Usually we want to use \"mpv4\"."
   ]
  },
  {
   "cell_type": "code",
   "execution_count": null,
   "metadata": {},
   "outputs": [],
   "source": [
    "fourcc = cv2.VideoWriter_fourcc(*'mp4v')\n",
    "path_to_output = \"my_first_video.mp4\"\n",
    "video_writer = cv2.VideoWriter(            \n",
    "            filename= path_to_output, \n",
    "            fourcc = fourcc, \n",
    "            fps = 30.0, \n",
    "            frameSize = (512, 512))  "
   ]
  },
  {
   "cell_type": "markdown",
   "metadata": {
    "deletable": false,
    "editable": false,
    "run_control": {
     "frozen": true
    }
   },
   "source": [
    "Writing images to video is as simple as reading images from video, all we need is one function call. In order to make a nice progress bar we can use the library tqdm and wrap our iterable for-loop."
   ]
  },
  {
   "cell_type": "code",
   "execution_count": null,
   "metadata": {},
   "outputs": [],
   "source": [
    "import tqdm\n",
    "for i in tqdm.tqdm(range(200)):\n",
    "    image = np.array([[[i, np.sqrt((x-256)**2 + (y-256)**2)*255/i, 255-i] if (x-256)**2 + (y-256)**2 < i**2 else [255,255,255]\\\n",
    "                       for x in range(512)] for y in range(512)], dtype=np.uint8)\n",
    "    video_writer.write(image)\n",
    "video_writer.release() "
   ]
  },
  {
   "cell_type": "markdown",
   "metadata": {
    "deletable": false,
    "editable": false,
    "heading_collapsed": true,
    "run_control": {
     "frozen": true
    }
   },
   "source": [
    "## Exercises"
   ]
  },
  {
   "cell_type": "markdown",
   "metadata": {
    "deletable": false,
    "editable": false,
    "hidden": true,
    "run_control": {
     "frozen": true
    }
   },
   "source": [
    "### 1. Array creation\n",
    "Declare a 255x255x1 black/white image which is all black except for a white circle in the middle. Display the image to screen."
   ]
  },
  {
   "cell_type": "code",
   "execution_count": null,
   "metadata": {
    "hidden": true
   },
   "outputs": [],
   "source": [
    "#Write your code here"
   ]
  },
  {
   "cell_type": "markdown",
   "metadata": {
    "hidden": true
   },
   "source": [
    "#### Example solution"
   ]
  },
  {
   "cell_type": "code",
   "execution_count": null,
   "metadata": {
    "hidden": true
   },
   "outputs": [],
   "source": [
    "python_list = [[1. if ((i-127)**2 + (j-127)**2 < 900) else 0. for i in range(255)] for j in range(255)]\n",
    "np_array = np.array(python_list)\n",
    "plt.imshow(np_array, cmap = \"gray\")\n",
    "plt.show()"
   ]
  },
  {
   "cell_type": "markdown",
   "metadata": {
    "deletable": false,
    "editable": false,
    "hidden": true,
    "run_control": {
     "frozen": true
    }
   },
   "source": [
    "### 2. Creative task\n",
    "\n",
    "Take the original strawberry image from the introduction and see if you can change the background color from blue to something else without affecting the non-background objects too much."
   ]
  },
  {
   "cell_type": "code",
   "execution_count": null,
   "metadata": {
    "hidden": true
   },
   "outputs": [],
   "source": [
    "image_path = \"images/strawberry.jpg\"\n",
    "\n",
    "image = plt.imread(image_path)"
   ]
  },
  {
   "cell_type": "markdown",
   "metadata": {
    "heading_collapsed": true,
    "hidden": true
   },
   "source": [
    "#### Example solution\n",
    "This could probably be vectorized for performance, but displays the idea nicely."
   ]
  },
  {
   "cell_type": "code",
   "execution_count": null,
   "metadata": {
    "hidden": true
   },
   "outputs": [],
   "source": [
    "result = np.zeros_like(image)\n",
    "for y in range(image.shape[0]):\n",
    "    for x in range(image.shape[1]):\n",
    "        #Set the pixel to black if blue is the dominant color\n",
    "        result[y,x,:] = image[y,x,:] if image[y,x,0]**2 + image[y,x,1]**2 > image[y,x,2]**2 else [0,0,0]\n",
    "plt.imshow(result)\n",
    "plt.show()\n",
    "\n",
    "result = np.zeros_like(image)\n",
    "for y in range(image.shape[0]):\n",
    "    for x in range(image.shape[1]):\n",
    "        result[y,x,:] = image[y,x,:] if image[y,x,0]**2 + image[y,x,1]**2 < image[y,x,2]**2 else [0,0,0]\n",
    "plt.imshow(result)\n",
    "plt.show()"
   ]
  },
  {
   "cell_type": "code",
   "execution_count": null,
   "metadata": {
    "hidden": true
   },
   "outputs": [],
   "source": []
  }
 ],
 "metadata": {
  "kernelspec": {
   "display_name": "Python tdt4195",
   "language": "python",
   "name": "tdt4195"
  },
  "language_info": {
   "codemirror_mode": {
    "name": "ipython",
    "version": 3
   },
   "file_extension": ".py",
   "mimetype": "text/x-python",
   "name": "python",
   "nbconvert_exporter": "python",
   "pygments_lexer": "ipython3",
   "version": "3.6.9"
  }
 },
 "nbformat": 4,
 "nbformat_minor": 2
}
