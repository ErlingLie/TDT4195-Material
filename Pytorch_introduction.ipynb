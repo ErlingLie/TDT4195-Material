{
 "cells": [
  {
   "cell_type": "markdown",
   "metadata": {},
   "source": [
    "# Pytorch classification 101\n",
    "\n",
    "Pytorch will be used as the preferred deep learning framework for this course. It can feel overwhelming to solve the assignments with no prior experience with pytorch. This notebook is supposed to give a short introduction, hopefully with usefull examples.\n",
    "\n",
    "This notebook assumes that you have basic knowledge about neural networks and deep learning. Key concepts which should be known before reading this notebook are: linear layers, convolutional layers, activation functions, loss functions, backpropagation and gradient descent."
   ]
  },
  {
   "cell_type": "markdown",
   "metadata": {},
   "source": [
    "## Loading a dataset\n",
    "\n",
    "Pytorch provides functionality for loading alot of existing dataset formats. The documentation can be found [here](https://pytorch.org/docs/stable/torchvision/datasets.html). In this section we will use pytorch's MNIST functionality to download and load the MNIST dataset. If you want to use your own dataset you should read the torch documentation and see if any of the implemented datasets can work for you. For instance the [image folder dataset](https://pytorch.org/docs/stable/torchvision/datasets.html#imagefolder) may work well for classification tasks. If not you may need to write your own dataset functionality.\n",
    "\n",
    "We must provide the dataset to a dataloader which will sample the data appropriately for us. To the dataset we also supply a transformation which will be applied to all images. In our case this is simply a transformation to torch tensor."
   ]
  },
  {
   "cell_type": "code",
   "execution_count": 36,
   "metadata": {},
   "outputs": [],
   "source": [
    "from torchvision import datasets\n",
    "import torchvision\n",
    "import torch\n",
    "dataset = datasets.MNIST(\"data/\", train=True, download=True, transform = torchvision.transforms.ToTensor())\n",
    "\n",
    "data_loader = torch.utils.data.DataLoader(dataset,\n",
    "                                          batch_size=8, shuffle=True)"
   ]
  },
  {
   "cell_type": "markdown",
   "metadata": {},
   "source": [
    "## Classification network - minimal working example\n",
    "Torch provides all sorts of network layers in its [nn module](https://pytorch.org/docs/stable/nn.html). Here we will demonstrate how to define a simple layer and loss function, forward a batch and back-propagate the result.\n",
    "\n",
    "Some important factors to remember:\n",
    "* Since we use linear layers we must reshape the images into tensores of dimension [batch size, hxw].\n",
    "* We must always reset the gradient before back propagating the loss.\n",
    "* Torch's cross entropy loss already includes a softmax layer, so we do not need to provide an activation layer ourselves\n",
    "* We can iterate over the data loader with a for-loop. It will loop through all images."
   ]
  },
  {
   "cell_type": "code",
   "execution_count": 22,
   "metadata": {},
   "outputs": [
    {
     "name": "stdout",
     "output_type": "stream",
     "text": [
      "Iteration: 0, Loss: 2.2789926528930664\n",
      "Iteration: 500, Loss: 1.1308016777038574\n",
      "Iteration: 1000, Loss: 0.4289010465145111\n",
      "Iteration: 1500, Loss: 0.4484846293926239\n",
      "Iteration: 2000, Loss: 0.6290685534477234\n",
      "Iteration: 2500, Loss: 0.6348029375076294\n",
      "Iteration: 3000, Loss: 0.6117620468139648\n",
      "Iteration: 3500, Loss: 0.19683994352817535\n",
      "Iteration: 4000, Loss: 0.16155457496643066\n",
      "Iteration: 4500, Loss: 0.6665973663330078\n",
      "Iteration: 5000, Loss: 0.12096591293811798\n",
      "Iteration: 5500, Loss: 0.47499194741249084\n",
      "Iteration: 6000, Loss: 0.5097285509109497\n",
      "Iteration: 6500, Loss: 0.5644869208335876\n",
      "Iteration: 7000, Loss: 0.41368401050567627\n"
     ]
    }
   ],
   "source": [
    "#Mnist images are of size 28x28\n",
    "#Define a linear layer with 28x28 input nodes and 10 output classes\n",
    "fc = torch.nn.Linear(in_features = 28*28, out_features = 10)\n",
    "\n",
    "#Define a loss function\n",
    "loss_function = torch.nn.CrossEntropyLoss()\n",
    "\n",
    "#Learning rate\n",
    "lr = 0.005\n",
    "\n",
    "#The data loader iterates over all images and ground truths\n",
    "for iteration, (images, targets) in enumerate(data_loader):\n",
    "    \n",
    "    #Reshape images into shappe [batchsize, 28x28]\n",
    "    images = images.view(-1, 28*28)\n",
    "    \n",
    "    #Forward the images through the linear layer\n",
    "    output = fc(images)\n",
    "    \n",
    "    #Forward the network output through the loss function\n",
    "    loss = loss_function(output, targets)\n",
    "    \n",
    "    #Reset gradients before back-propagation\n",
    "    fc.zero_grad()\n",
    "    \n",
    "    #Backpropagate the result\n",
    "    loss.backward()\n",
    "    \n",
    "    #Print loss\n",
    "    if(iteration%500 == 0):\n",
    "        print(f\"Iteration: {iteration}, Loss: {loss.detach().item()}\")\n",
    "    \n",
    "    #Perform gradient step\n",
    "    for param in fc.parameters():\n",
    "        param.data -= param.grad.data*lr"
   ]
  },
  {
   "cell_type": "markdown",
   "metadata": {},
   "source": [
    "## Creating a larger network\n",
    "Whenever we want to define larger networks it is often practical to make our own subclass to the torch.nn module. Some may not be familiar with object oriented programming in python. A simple guide for that can be found [here](https://realpython.com/python3-object-oriented-programming/).\n",
    "\n",
    "Here we will define a simple network with both convolutional layers and a linear classification layer.\n",
    "\n",
    "Things to remeber:\n",
    "* A minimal network overloads the `__init__` and the `forward` methods.\n",
    "* We define our network layers in the object constructor\n",
    "* Out channels and in channels must agree between conv layers\n",
    "* If we overload the `forward()` function `torch.nn.Module` will automatically forward the input when we use the `__call__` operator."
   ]
  },
  {
   "cell_type": "code",
   "execution_count": 34,
   "metadata": {},
   "outputs": [],
   "source": [
    "class MyFirstNetwork(torch.nn.Module):\n",
    "    def __init__(self):\n",
    "        super().__init__()\n",
    "        \n",
    "        #Define our layers\n",
    "        self.conv1 = torch.nn.Conv2d(in_channels=1, out_channels = 4, kernel_size = 3) #Output 26*26*8\n",
    "        self.conv2 = torch.nn.Conv2d(in_channels=4, out_channels = 8, kernel_size = 3,\\\n",
    "                                     stride=2, padding = 1) #Output = 13*13*8\n",
    "        \n",
    "        self.fc = torch.nn.Linear(in_features = 13*13*8, out_features = 10)\n",
    "        \n",
    "        #Function pointer to activation function\n",
    "        self.rl = torch.nn.ReLU()\n",
    "    \n",
    "    def forward(self, x):\n",
    "        x = self.conv1(x)\n",
    "        x = self.rl(x)\n",
    "        \n",
    "        x = self.conv2(x)\n",
    "        x = self.rl(x)\n",
    "\n",
    "        x = x.view(-1, 13*13*8)\n",
    "        output = self.fc(x)\n",
    "        return output\n",
    "        "
   ]
  },
  {
   "cell_type": "markdown",
   "metadata": {},
   "source": [
    "We could use the same training structure as in the minimal example. It would work in the exact same way. It is however, not common to do the gradient steps manually. Instead we use an [optimizer](https://pytorch.org/docs/stable/optim.html). The optimizer will hold our models parameters and do the gradient step for us."
   ]
  },
  {
   "cell_type": "code",
   "execution_count": 70,
   "metadata": {},
   "outputs": [
    {
     "name": "stdout",
     "output_type": "stream",
     "text": [
      "Iteration: 0, Loss: 2.33815860748291\n",
      "Iteration: 500, Loss: 0.27748674154281616\n",
      "Iteration: 1000, Loss: 0.0884331539273262\n",
      "Iteration: 1500, Loss: 0.11556092649698257\n",
      "Iteration: 2000, Loss: 0.626777708530426\n",
      "Iteration: 2500, Loss: 0.3832801878452301\n",
      "Iteration: 3000, Loss: 0.009281393140554428\n",
      "Iteration: 3500, Loss: 0.028962550684809685\n",
      "Iteration: 4000, Loss: 0.0015657392796128988\n",
      "Iteration: 4500, Loss: 0.007039709482342005\n",
      "Iteration: 5000, Loss: 0.020890386775135994\n",
      "Iteration: 5500, Loss: 0.035504717379808426\n",
      "Iteration: 6000, Loss: 0.08626484870910645\n",
      "Iteration: 6500, Loss: 0.1787303239107132\n",
      "Iteration: 7000, Loss: 0.00824312400072813\n"
     ]
    }
   ],
   "source": [
    "#Define our network\n",
    "model = MyFirstNetwork()\n",
    "\n",
    "#Define a loss function\n",
    "loss_function = torch.nn.CrossEntropyLoss()\n",
    "\n",
    "#Define a stochastic gradient descent optimizer\n",
    "optimizer = torch.optim.SGD(model.parameters(), lr = 0.05)\n",
    "\n",
    "#Iterate through all images using the data loader\n",
    "for iteration, (images, targets) in enumerate(data_loader):\n",
    "    \n",
    "    #Forward the images through the linear layer\n",
    "    output = model(images)\n",
    "    \n",
    "    #Forward the network output through the loss function\n",
    "    loss = loss_function(output, targets)\n",
    "    \n",
    "    #Reset gradients before back-propagation\n",
    "    optimizer.zero_grad()\n",
    "    \n",
    "    #Backpropagate the result\n",
    "    loss.backward()\n",
    "    \n",
    "    #Perform gradient step\n",
    "    optimizer.step()\n",
    "    \n",
    "    #Print loss\n",
    "    if(iteration%500 == 0):\n",
    "        print(f\"Iteration: {iteration}, Loss: {loss.detach().item()}\")\n",
    "    \n",
    "    "
   ]
  },
  {
   "cell_type": "markdown",
   "metadata": {
    "heading_collapsed": true
   },
   "source": [
    "### Torch sequential\n",
    "\n",
    "You may come across examples that use [torch.nn.Sequential](https://pytorch.org/docs/stable/generated/torch.nn.Sequential.html#torch.nn.Sequential). It is a container that we can use when defining multiple sequential layers. It makes the code simpler and perhaps more readable. \n",
    "\n",
    "The following class defines the exact same network as above, but with fewer lines of code."
   ]
  },
  {
   "cell_type": "code",
   "execution_count": 38,
   "metadata": {
    "hidden": true
   },
   "outputs": [],
   "source": [
    "class MySecondNetwork(torch.nn.Module):\n",
    "    def __init__(self):\n",
    "        super().__init__()\n",
    "        \n",
    "        #Define our layers\n",
    "        self.convLayers = torch.nn.Sequential(torch.nn.Conv2d(1,4,3),\n",
    "                                              torch.nn.ReLU(),\n",
    "                                              torch.nn.Conv2d(4, 8, kernel_size = 3, stride=2, padding = 1),\n",
    "                                              torch.nn.ReLU())\n",
    "        self.fc = torch.nn.Linear(in_features = 13*13*8, out_features = 10)\n",
    "        \n",
    "    \n",
    "    def forward(self, x):\n",
    "        x = self.convLayers(x)\n",
    "\n",
    "        x = x.view(-1, 13*13*8)\n",
    "        output = self.fc(x)\n",
    "        return output\n",
    "        "
   ]
  },
  {
   "cell_type": "markdown",
   "metadata": {},
   "source": [
    "## Testing the model\n",
    "When we have trained a model, the most interesting part is to test it. Here we will show how to get the predictions from the model."
   ]
  },
  {
   "cell_type": "code",
   "execution_count": 68,
   "metadata": {},
   "outputs": [],
   "source": [
    "#First we need to load the testing dataset\n",
    "dataset = datasets.MNIST(\"data/\", train=False, download=True, transform = torchvision.transforms.ToTensor())\n",
    "\n",
    "test_loader = torch.utils.data.DataLoader(dataset,\n",
    "                                          batch_size=1, shuffle=True)"
   ]
  },
  {
   "cell_type": "code",
   "execution_count": 72,
   "metadata": {},
   "outputs": [
    {
     "data": {
      "image/png": "[encoded data removed]",
      "text/plain": [
       "<Figure size 1080x432 with 10 Axes>"
      ]
     },
     "metadata": {
      "needs_background": "light"
     },
     "output_type": "display_data"
    }
   ],
   "source": [
    "import numpy as np\n",
    "from matplotlib import pyplot as plt\n",
    "\n",
    "#We do not need gradients when testing\n",
    "with torch.no_grad():\n",
    "    #Set the model into evaluation mode\n",
    "    model.eval()\n",
    "    \n",
    "    plt.figure(figsize = (15, 6))\n",
    "    for i in range(10):\n",
    "        #Get next image from data loader\n",
    "        image, _ = next(iter(test_loader))\n",
    "        \n",
    "        \n",
    "        output = model(image)\n",
    "        \n",
    "        #Output is of shape [batches, classes]\n",
    "        #The prediction is the argmax over the classes\n",
    "        prediction = output.argmax(dim=1).squeeze()\n",
    "        \n",
    "        #To display the image we convert it from torch tensor to numpy\n",
    "        image_np = image.numpy().reshape((28,28))\n",
    "        \n",
    "        plt.subplot(2,5,i+1)\n",
    "        plt.imshow(image_np, cmap = \"gray\")\n",
    "        plt.title(f\"Prediction: {prediction}\")\n",
    "\n",
    "    "
   ]
  },
  {
   "cell_type": "code",
   "execution_count": null,
   "metadata": {},
   "outputs": [],
   "source": []
  }
 ],
 "metadata": {
  "kernelspec": {
   "display_name": "Python tdt4195",
   "language": "python",
   "name": "tdt4195"
  },
  "language_info": {
   "codemirror_mode": {
    "name": "ipython",
    "version": 3
   },
   "file_extension": ".py",
   "mimetype": "text/x-python",
   "name": "python",
   "nbconvert_exporter": "python",
   "pygments_lexer": "ipython3",
   "version": "3.6.9"
  }
 },
 "nbformat": 4,
 "nbformat_minor": 2
}
