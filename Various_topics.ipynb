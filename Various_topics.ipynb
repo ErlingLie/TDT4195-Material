{
 "cells": [
  {
   "cell_type": "markdown",
   "metadata": {
    "deletable": false,
    "editable": false,
    "run_control": {
     "frozen": true
    }
   },
   "source": [
    "# Various topics\n",
    "This notebook will cover miscellaneous topics from the image processing part of TDT4195"
   ]
  },
  {
   "cell_type": "markdown",
   "metadata": {
    "deletable": false,
    "editable": false,
    "run_control": {
     "frozen": true
    }
   },
   "source": [
    "## Sampling and quantization\n",
    "\n",
    "The world around us is analog or continous, while digital images are discrete. In order to produce a digital image from a continous signal we must do the two processes called sampling and quantization."
   ]
  },
  {
   "cell_type": "markdown",
   "metadata": {
    "deletable": false,
    "editable": false,
    "run_control": {
     "frozen": true
    }
   },
   "source": [
    "### Sampling\n",
    "In image processing sampling is the process of reducing the continous spatial signal to a discrete set of pixels. Its effect can be illustrated by excessively undersampling an image and looking at the result. An undersampled image will appear pixelated. "
   ]
  },
  {
   "cell_type": "code",
   "execution_count": 1,
   "metadata": {
    "scrolled": false
   },
   "outputs": [
    {
     "data": {
      "application/vnd.jupyter.widget-view+json": {
       "model_id": "a522cb2ce8b64b69aee50a4ff93f6296",
       "version_major": 2,
       "version_minor": 0
      },
      "text/plain": [
       "interactive(children=(IntSlider(value=0, description='x', max=7), Output()), _dom_classes=('widget-interact',)…"
      ]
     },
     "metadata": {},
     "output_type": "display_data"
    }
   ],
   "source": [
    "from matplotlib import pyplot as plt\n",
    "import numpy as np\n",
    "from ipywidgets import interact, interact_manual, FloatSlider\n",
    "import ipywidgets as widgets\n",
    "\n",
    "\n",
    "def sample(x):\n",
    "    image = plt.imread(\"images/strawberry.jpg\")[::2, ::2]\n",
    "    x = 2**x\n",
    "    plt.figure(figsize = (10,10))\n",
    "    plt.imshow(image[::x, ::x])\n",
    "    plt.show()\n",
    "    \n",
    "_ = interact(sample,x=widgets.IntSlider(min=0, max=7, step=1, value=0))"
   ]
  },
  {
   "cell_type": "markdown",
   "metadata": {
    "deletable": false,
    "editable": false,
    "run_control": {
     "frozen": true
    }
   },
   "source": [
    "### Quantization\n",
    "Whereas sampling is the process discretizising image in the spatial extent to a discrete set of pixels, quantization is the process of reducing the continous range of possible color intensity values to a discrete set of intensities. Often we use uint8 to represent color values. That gives us a range of 256 different color intensity levels. Other times we may require a higher integer precision for a more true representation, or we may reduce the number of possible intensity levels in order to compress the image."
   ]
  },
  {
   "cell_type": "code",
   "execution_count": 6,
   "metadata": {},
   "outputs": [
    {
     "data": {
      "application/vnd.jupyter.widget-view+json": {
       "model_id": "69e5824ac79e47f9b32be5fe9ab95e8d",
       "version_major": 2,
       "version_minor": 0
      },
      "text/plain": [
       "interactive(children=(IntSlider(value=0, description='x', max=7), Output()), _dom_classes=('widget-interact',)…"
      ]
     },
     "metadata": {},
     "output_type": "display_data"
    }
   ],
   "source": [
    "def quantize(x):\n",
    "    image = plt.imread(\"images/strawberry.jpg\")[::2, ::2]\n",
    "    x = 2**x\n",
    "    plt.figure(figsize = (10,10))\n",
    "    plt.imshow(image - image % x)\n",
    "    plt.show()\n",
    "    \n",
    "_ = interact(quantize,x=widgets.IntSlider(min=0, max=7, step=1, value=0))"
   ]
  },
  {
   "cell_type": "markdown",
   "metadata": {
    "deletable": false,
    "editable": false,
    "run_control": {
     "frozen": true
    }
   },
   "source": [
    "## Gamma transform\n",
    "Interactive display of how the gamma-transform affects an image."
   ]
  },
  {
   "cell_type": "code",
   "execution_count": 3,
   "metadata": {},
   "outputs": [
    {
     "data": {
      "application/vnd.jupyter.widget-view+json": {
       "model_id": "0da0992e0ffe432cb98019674aa7aa8f",
       "version_major": 2,
       "version_minor": 0
      },
      "text/plain": [
       "interactive(children=(FloatSlider(value=1.0, description='gamma', max=5.0, min=0.01, step=0.01), Button(descri…"
      ]
     },
     "metadata": {},
     "output_type": "display_data"
    }
   ],
   "source": [
    "def gamma_transform(gamma):\n",
    "    image = plt.imread(\"images/bw_lake.jpg\")[::2,::2,0]  \n",
    "    image = image/255.\n",
    "    image = image**gamma\n",
    "    plt.figure(figsize = (12,6))\n",
    "    plt.imshow(image, cmap = \"gray\")\n",
    "    plt.show()\n",
    "    image = (image * 255).astype(np.uint8).reshape(-1)\n",
    "    plt.figure(figsize = (9,6))\n",
    "    _ = plt.hist(image, bins=64)\n",
    "    plt.title(\"Image histogram\")\n",
    "    plt.show()\n",
    "\n",
    "_ = interact_manual(gamma_transform,  gamma=FloatSlider(min=0.01, max=5.0, step=1e-2, value=1.0))"
   ]
  },
  {
   "cell_type": "markdown",
   "metadata": {
    "deletable": false,
    "editable": false,
    "run_control": {
     "frozen": true
    }
   },
   "source": [
    "## Log and inverse log transform\n",
    "Interactive display of the log and inverse log transform"
   ]
  },
  {
   "cell_type": "code",
   "execution_count": 4,
   "metadata": {},
   "outputs": [
    {
     "data": {
      "application/vnd.jupyter.widget-view+json": {
       "model_id": "621f5ac289d5407e9f99d8cf9c2a2a0e",
       "version_major": 2,
       "version_minor": 0
      },
      "text/plain": [
       "interactive(children=(Dropdown(description='transform', options=('log', 'identity', 'inverse log'), value='log…"
      ]
     },
     "metadata": {},
     "output_type": "display_data"
    }
   ],
   "source": [
    "def log_transform(transform):\n",
    "    image = plt.imread(\"images/high_contrast.jpg\")[:,:,0]  \n",
    "    image = image/255.\n",
    "    if transform == \"log\":\n",
    "        c = 1/np.log(2)\n",
    "        image = c*np.log(image + 1)\n",
    "    elif transform == \"inverse log\":\n",
    "        c = 1/np.log(2)\n",
    "        image = np.exp(image/c) - 1\n",
    "    else:\n",
    "        pass\n",
    "    plt.figure(figsize=(12,6))\n",
    "    plt.imshow(image, cmap = \"gray\")\n",
    "    plt.show()\n",
    "    image = (image * 255).astype(np.uint8).reshape(-1)\n",
    "    plt.figure(figsize=(10,6))\n",
    "    _ = plt.hist(image, bins=64)\n",
    "    plt.title(\"Image histogram\")\n",
    "    plt.show()\n",
    "\n",
    "_ = interact_manual(log_transform, transform = [\"log\", \"identity\", \"inverse log\"])"
   ]
  },
  {
   "cell_type": "markdown",
   "metadata": {
    "deletable": false,
    "editable": false,
    "run_control": {
     "frozen": true
    }
   },
   "source": [
    "## Neighborhood filtering\n",
    "Interactive display of different convolution kernels. Most of the kernels can be found [here](https://en.wikipedia.org/wiki/Kernel_(image_processing))."
   ]
  },
  {
   "cell_type": "code",
   "execution_count": 5,
   "metadata": {},
   "outputs": [
    {
     "data": {
      "application/vnd.jupyter.widget-view+json": {
       "model_id": "2f0c44fc6a29456890174375f7c0e4aa",
       "version_major": 2,
       "version_minor": 0
      },
      "text/plain": [
       "interactive(children=(Dropdown(description='kernel_1', options=('identity', 'gaussian_3', 'gaussian_5', 'gauss…"
      ]
     },
     "metadata": {},
     "output_type": "display_data"
    }
   ],
   "source": [
    "def convolve_image(image, kernel):\n",
    "    h, w = image.shape[:2]\n",
    "    kernel_size= kernel.shape[0]\n",
    "    \n",
    "    #Rotate 180 degrees in order to perform convolution and not correlation\n",
    "    kernel = np.rot90(np.rot90(kernel))\n",
    "    pad = (kernel_size - 1) // 2\n",
    "    \n",
    "    image = np.pad(image, pad_width = ((pad,pad), (pad,pad)), mode = \"constant\")\n",
    "    \n",
    "    output = np.zeros_like(image)\n",
    "    for y in range(h):\n",
    "        for x in range(w):\n",
    "            im_slice = image[y: y+kernel_size, x: x + kernel_size]\n",
    "            \n",
    "            value = np.sum(im_slice*kernel, axis = (0,1))\n",
    "            output[y + pad, x + pad] = value\n",
    "\n",
    "    return output\n",
    "\n",
    "kernel_map = {\n",
    "    \"identity\"   : np.array([[0,0,0], [0,1,0], [0,0,0]]),\n",
    "    \"gaussian_3\" : np.array([[1,2,1], [2,4,2], [1,2,1]])/16,\n",
    "    \"gaussian_5\" : np.array([[1,4,6,4,1], [4,16,24,16,4],\\\n",
    "                             [6,24,36,24,6], [4,16,24,16,4], [1,4,6,4,1]]) /256,\n",
    "    \"gaussian_7\" : np.array([[0,0,1,2,1,0,0], [0,3,13,22,13,3,0], [1,13,59,97,69,13,1],\\\n",
    "                            [2,22,97,159,97,22,2], [1,13,59,97,59,13,1], [0,3,13,22,13,3,0],\\\n",
    "                            [0,0,1,2,1,0,0]])/1003,\n",
    "    \"box_3\"      : np.ones((3,3))/9,\n",
    "    \"box_5\"      : np.ones((5,5))/25,\n",
    "    \"box_7\"      : np.ones((7,7))/49,\n",
    "    \"edge_1\"     : np.array([[1,0,-1], [0,0,0],[-1,0,1]]),\n",
    "    \"edge_2\"     : np.array([[0,-1,0], [-1,4,-1], [0,-1,0]]),\n",
    "    \"edge_3\"     : np.array([[-1,-1,-1], [-1,8,-1], [-1,-1,-1]]),\n",
    "    \"sharpen\"    : np.array([[0,-1,0], [-1,5,-1], [0,-1,0]]),\n",
    "    \"sobel_x\"    : np.array([[1,0,-1], [2,0,-2], [1,0,-1]]),\n",
    "    \"sobel_y\"  : np.array([[1,2,1], [0,0,0], [-1,-2,-1]])\n",
    "    }\n",
    "\n",
    "def display_convolved_image(kernel_1, kernel_2):\n",
    "    image = plt.imread(\"images/high_contrast.jpg\")[:,:,0]\n",
    "    \n",
    "\n",
    "\n",
    "    output = convolve_image(image, kernel_map[kernel_1])\n",
    "    output = convolve_image(output, kernel_map[kernel_2])\n",
    "    plt.figure(figsize = (10,10))\n",
    "    plt.imshow(output, cmap = \"gray\")            \n",
    "    plt.show()     \n",
    "\n",
    "_ = interact_manual(display_convolved_image, kernel_1 = kernel_map.keys(), kernel_2 = kernel_map.keys())\n",
    "    "
   ]
  }
 ],
 "metadata": {
  "kernelspec": {
   "display_name": "Python tdt4195",
   "language": "python",
   "name": "tdt4195"
  },
  "language_info": {
   "codemirror_mode": {
    "name": "ipython",
    "version": 3
   },
   "file_extension": ".py",
   "mimetype": "text/x-python",
   "name": "python",
   "nbconvert_exporter": "python",
   "pygments_lexer": "ipython3",
   "version": "3.6.9"
  }
 },
 "nbformat": 4,
 "nbformat_minor": 2
}
